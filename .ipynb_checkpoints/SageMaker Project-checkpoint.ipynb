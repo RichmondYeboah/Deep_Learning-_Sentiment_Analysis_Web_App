{
 "cells": [
  {
   "cell_type": "markdown",
   "metadata": {},
   "source": [
    "# Creating a Sentiment Analysis Web App\n",
    "## Using PyTorch and SageMaker\n",
    "\n",
    "_Deep Learning Nanodegree Program | Deployment_\n",
    "\n",
    "---\n",
    "\n",
    "Now that we have a basic understanding of how SageMaker works we will try to use it to construct a complete project from end to end. Our goal will be to have a simple web page which a user can use to enter a movie review. The web page will then send the review off to our deployed model which will predict the sentiment of the entered review.\n",
    "\n",
    "## Instructions\n",
    "\n",
    "Some template code has already been provided for you, and you will need to implement additional functionality to successfully complete this notebook. You will not need to modify the included code beyond what is requested. Sections that begin with '**TODO**' in the header indicate that you need to complete or implement some portion within them. Instructions will be provided for each section and the specifics of the implementation are marked in the code block with a `# TODO: ...` comment. Please be sure to read the instructions carefully!\n",
    "\n",
    "In addition to implementing code, there will be questions for you to answer which relate to the task and your implementation. Each section where you will answer a question is preceded by a '**Question:**' header. Carefully read each question and provide your answer below the '**Answer:**' header by editing the Markdown cell.\n",
    "\n",
    "> **Note**: Code and Markdown cells can be executed using the **Shift+Enter** keyboard shortcut. In addition, a cell can be edited by typically clicking it (double-click for Markdown cells) or by pressing **Enter** while it is highlighted.\n",
    "\n",
    "## General Outline\n",
    "\n",
    "Recall the general outline for SageMaker projects using a notebook instance.\n",
    "\n",
    "1. Download or otherwise retrieve the data.\n",
    "2. Process / Prepare the data.\n",
    "3. Upload the processed data to S3.\n",
    "4. Train a chosen model.\n",
    "5. Test the trained model (typically using a batch transform job).\n",
    "6. Deploy the trained model.\n",
    "7. Use the deployed model.\n",
    "\n",
    "For this project, you will be following the steps in the general outline with some modifications. \n",
    "\n",
    "First, you will not be testing the model in its own step. You will still be testing the model, however, you will do it by deploying your model and then using the deployed model by sending the test data to it. One of the reasons for doing this is so that you can make sure that your deployed model is working correctly before moving forward.\n",
    "\n",
    "In addition, you will deploy and use your trained model a second time. In the second iteration you will customize the way that your trained model is deployed by including some of your own code. In addition, your newly deployed model will be used in the sentiment analysis web app."
   ]
  },
  {
   "cell_type": "code",
   "execution_count": 1,
   "metadata": {},
   "outputs": [
    {
     "name": "stdout",
     "output_type": "stream",
     "text": [
      "Requirement already satisfied: pip in /home/ec2-user/anaconda3/envs/pytorch_p36/lib/python3.6/site-packages (21.0.1)\n",
      "Collecting sagemaker==1.72.0\n",
      "  Downloading sagemaker-1.72.0.tar.gz (297 kB)\n",
      "\u001b[K     |████████████████████████████████| 297 kB 18.4 MB/s eta 0:00:01\n",
      "\u001b[?25hRequirement already satisfied: boto3>=1.14.12 in /home/ec2-user/anaconda3/envs/pytorch_p36/lib/python3.6/site-packages (from sagemaker==1.72.0) (1.17.35)\n",
      "Requirement already satisfied: numpy>=1.9.0 in /home/ec2-user/anaconda3/envs/pytorch_p36/lib/python3.6/site-packages (from sagemaker==1.72.0) (1.19.5)\n",
      "Requirement already satisfied: protobuf>=3.1 in /home/ec2-user/anaconda3/envs/pytorch_p36/lib/python3.6/site-packages (from sagemaker==1.72.0) (3.15.2)\n",
      "Requirement already satisfied: scipy>=0.19.0 in /home/ec2-user/anaconda3/envs/pytorch_p36/lib/python3.6/site-packages (from sagemaker==1.72.0) (1.5.3)\n",
      "Requirement already satisfied: protobuf3-to-dict>=0.1.5 in /home/ec2-user/anaconda3/envs/pytorch_p36/lib/python3.6/site-packages (from sagemaker==1.72.0) (0.1.5)\n",
      "Collecting smdebug-rulesconfig==0.1.4\n",
      "  Downloading smdebug_rulesconfig-0.1.4-py2.py3-none-any.whl (10 kB)\n",
      "Requirement already satisfied: importlib-metadata>=1.4.0 in /home/ec2-user/anaconda3/envs/pytorch_p36/lib/python3.6/site-packages (from sagemaker==1.72.0) (3.7.0)\n",
      "Requirement already satisfied: packaging>=20.0 in /home/ec2-user/anaconda3/envs/pytorch_p36/lib/python3.6/site-packages (from sagemaker==1.72.0) (20.9)\n",
      "Requirement already satisfied: jmespath<1.0.0,>=0.7.1 in /home/ec2-user/anaconda3/envs/pytorch_p36/lib/python3.6/site-packages (from boto3>=1.14.12->sagemaker==1.72.0) (0.10.0)\n",
      "Requirement already satisfied: s3transfer<0.4.0,>=0.3.0 in /home/ec2-user/anaconda3/envs/pytorch_p36/lib/python3.6/site-packages (from boto3>=1.14.12->sagemaker==1.72.0) (0.3.4)\n",
      "Requirement already satisfied: botocore<1.21.0,>=1.20.35 in /home/ec2-user/anaconda3/envs/pytorch_p36/lib/python3.6/site-packages (from boto3>=1.14.12->sagemaker==1.72.0) (1.20.35)\n",
      "Requirement already satisfied: python-dateutil<3.0.0,>=2.1 in /home/ec2-user/anaconda3/envs/pytorch_p36/lib/python3.6/site-packages (from botocore<1.21.0,>=1.20.35->boto3>=1.14.12->sagemaker==1.72.0) (2.8.1)\n",
      "Requirement already satisfied: urllib3<1.27,>=1.25.4 in /home/ec2-user/anaconda3/envs/pytorch_p36/lib/python3.6/site-packages (from botocore<1.21.0,>=1.20.35->boto3>=1.14.12->sagemaker==1.72.0) (1.26.3)\n",
      "Requirement already satisfied: zipp>=0.5 in /home/ec2-user/anaconda3/envs/pytorch_p36/lib/python3.6/site-packages (from importlib-metadata>=1.4.0->sagemaker==1.72.0) (3.4.0)\n",
      "Requirement already satisfied: typing-extensions>=3.6.4 in /home/ec2-user/anaconda3/envs/pytorch_p36/lib/python3.6/site-packages (from importlib-metadata>=1.4.0->sagemaker==1.72.0) (3.7.4.3)\n",
      "Requirement already satisfied: pyparsing>=2.0.2 in /home/ec2-user/anaconda3/envs/pytorch_p36/lib/python3.6/site-packages (from packaging>=20.0->sagemaker==1.72.0) (2.4.7)\n",
      "Requirement already satisfied: six>=1.9 in /home/ec2-user/anaconda3/envs/pytorch_p36/lib/python3.6/site-packages (from protobuf>=3.1->sagemaker==1.72.0) (1.15.0)\n",
      "Building wheels for collected packages: sagemaker\n",
      "  Building wheel for sagemaker (setup.py) ... \u001b[?25ldone\n",
      "\u001b[?25h  Created wheel for sagemaker: filename=sagemaker-1.72.0-py2.py3-none-any.whl size=386358 sha256=5b98814282e79a8456dedab3198a3c1cee88d12e1f2f8f6a68b685c573ac31f9\n",
      "  Stored in directory: /home/ec2-user/.cache/pip/wheels/c3/58/70/85faf4437568bfaa4c419937569ba1fe54d44c5db42406bbd7\n",
      "Successfully built sagemaker\n",
      "Installing collected packages: smdebug-rulesconfig, sagemaker\n",
      "  Attempting uninstall: smdebug-rulesconfig\n",
      "    Found existing installation: smdebug-rulesconfig 1.0.1\n",
      "    Uninstalling smdebug-rulesconfig-1.0.1:\n",
      "      Successfully uninstalled smdebug-rulesconfig-1.0.1\n",
      "  Attempting uninstall: sagemaker\n",
      "    Found existing installation: sagemaker 2.31.1\n",
      "    Uninstalling sagemaker-2.31.1:\n",
      "      Successfully uninstalled sagemaker-2.31.1\n",
      "Successfully installed sagemaker-1.72.0 smdebug-rulesconfig-0.1.4\n",
      "Collecting pandas==0.25\n",
      "  Downloading pandas-0.25.0-cp36-cp36m-manylinux1_x86_64.whl (10.5 MB)\n",
      "\u001b[K     |████████████████████████████████| 10.5 MB 18.3 MB/s eta 0:00:01\n",
      "\u001b[?25hRequirement already satisfied: pytz>=2017.2 in /home/ec2-user/anaconda3/envs/pytorch_p36/lib/python3.6/site-packages (from pandas==0.25) (2021.1)\n",
      "Requirement already satisfied: python-dateutil>=2.6.1 in /home/ec2-user/anaconda3/envs/pytorch_p36/lib/python3.6/site-packages (from pandas==0.25) (2.8.1)\n",
      "Requirement already satisfied: numpy>=1.13.3 in /home/ec2-user/anaconda3/envs/pytorch_p36/lib/python3.6/site-packages (from pandas==0.25) (1.19.5)\n",
      "Requirement already satisfied: six>=1.5 in /home/ec2-user/anaconda3/envs/pytorch_p36/lib/python3.6/site-packages (from python-dateutil>=2.6.1->pandas==0.25) (1.15.0)\n",
      "Installing collected packages: pandas\n",
      "  Attempting uninstall: pandas\n",
      "    Found existing installation: pandas 1.1.5\n",
      "    Uninstalling pandas-1.1.5:\n",
      "      Successfully uninstalled pandas-1.1.5\n",
      "\u001b[31mERROR: pip's dependency resolver does not currently take into account all the packages that are installed. This behaviour is the source of the following dependency conflicts.\n",
      "fastai 1.0.61 requires nvidia-ml-py3, which is not installed.\u001b[0m\n",
      "Successfully installed pandas-0.25.0\n"
     ]
    }
   ],
   "source": [
    "# Make sure that we use SageMaker 1.x\n",
    "!pip install --upgrade pip\n",
    "!pip install sagemaker==1.72.0 \n",
    "!pip install pandas==0.25"
   ]
  },
  {
   "cell_type": "markdown",
   "metadata": {},
   "source": [
    "## Step 1: Downloading the data\n",
    "\n",
    "As in the XGBoost in SageMaker notebook, we will be using the [IMDb dataset](http://ai.stanford.edu/~amaas/data/sentiment/)\n",
    "\n",
    "> Maas, Andrew L., et al. [Learning Word Vectors for Sentiment Analysis](http://ai.stanford.edu/~amaas/data/sentiment/). In _Proceedings of the 49th Annual Meeting of the Association for Computational Linguistics: Human Language Technologies_. Association for Computational Linguistics, 2011."
   ]
  },
  {
   "cell_type": "code",
   "execution_count": 2,
   "metadata": {},
   "outputs": [
    {
     "name": "stdout",
     "output_type": "stream",
     "text": [
      "mkdir: cannot create directory ‘../data’: File exists\n",
      "--2021-04-02 22:33:27--  http://ai.stanford.edu/~amaas/data/sentiment/aclImdb_v1.tar.gz\n",
      "Resolving ai.stanford.edu (ai.stanford.edu)... 171.64.68.10\n",
      "Connecting to ai.stanford.edu (ai.stanford.edu)|171.64.68.10|:80... connected.\n",
      "HTTP request sent, awaiting response... 200 OK\n",
      "Length: 84125825 (80M) [application/x-gzip]\n",
      "Saving to: ‘../data/aclImdb_v1.tar.gz’\n",
      "\n",
      "../data/aclImdb_v1. 100%[===================>]  80.23M  27.8MB/s    in 2.9s    \n",
      "\n",
      "2021-04-02 22:33:30 (27.8 MB/s) - ‘../data/aclImdb_v1.tar.gz’ saved [84125825/84125825]\n",
      "\n"
     ]
    }
   ],
   "source": [
    "%mkdir ../data\n",
    "!wget -O ../data/aclImdb_v1.tar.gz http://ai.stanford.edu/~amaas/data/sentiment/aclImdb_v1.tar.gz\n",
    "!tar -zxf ../data/aclImdb_v1.tar.gz -C ../data"
   ]
  },
  {
   "cell_type": "markdown",
   "metadata": {},
   "source": [
    "## Step 2: Preparing and Processing the data\n",
    "\n",
    "Also, as in the XGBoost notebook, we will be doing some initial data processing. The first few steps are the same as in the XGBoost example. To begin with, we will read in each of the reviews and combine them into a single input structure. Then, we will split the dataset into a training set and a testing set."
   ]
  },
  {
   "cell_type": "code",
   "execution_count": 3,
   "metadata": {},
   "outputs": [],
   "source": [
    "import os\n",
    "import glob\n",
    "\n",
    "def read_imdb_data(data_dir='../data/aclImdb'):\n",
    "    data = {}\n",
    "    labels = {}\n",
    "    \n",
    "    for data_type in ['train', 'test']:\n",
    "        data[data_type] = {}\n",
    "        labels[data_type] = {}\n",
    "        \n",
    "        for sentiment in ['pos', 'neg']:\n",
    "            data[data_type][sentiment] = []\n",
    "            labels[data_type][sentiment] = []\n",
    "            \n",
    "            path = os.path.join(data_dir, data_type, sentiment, '*.txt')\n",
    "            files = glob.glob(path)\n",
    "            \n",
    "            for f in files:\n",
    "                with open(f) as review:\n",
    "                    data[data_type][sentiment].append(review.read())\n",
    "                    # Here we represent a positive review by '1' and a negative review by '0'\n",
    "                    labels[data_type][sentiment].append(1 if sentiment == 'pos' else 0)\n",
    "                    \n",
    "            assert len(data[data_type][sentiment]) == len(labels[data_type][sentiment]), \\\n",
    "                    \"{}/{} data size does not match labels size\".format(data_type, sentiment)\n",
    "                \n",
    "    return data, labels"
   ]
  },
  {
   "cell_type": "code",
   "execution_count": 4,
   "metadata": {},
   "outputs": [
    {
     "name": "stdout",
     "output_type": "stream",
     "text": [
      "IMDB reviews: train = 12500 pos / 12500 neg, test = 12500 pos / 12500 neg\n"
     ]
    }
   ],
   "source": [
    "data, labels = read_imdb_data()\n",
    "print(\"IMDB reviews: train = {} pos / {} neg, test = {} pos / {} neg\".format(\n",
    "            len(data['train']['pos']), len(data['train']['neg']),\n",
    "            len(data['test']['pos']), len(data['test']['neg'])))"
   ]
  },
  {
   "cell_type": "markdown",
   "metadata": {},
   "source": [
    "Now that we've read the raw training and testing data from the downloaded dataset, we will combine the positive and negative reviews and shuffle the resulting records."
   ]
  },
  {
   "cell_type": "code",
   "execution_count": 5,
   "metadata": {},
   "outputs": [],
   "source": [
    "from sklearn.utils import shuffle\n",
    "\n",
    "def prepare_imdb_data(data, labels):\n",
    "    \"\"\"Prepare training and test sets from IMDb movie reviews.\"\"\"\n",
    "    \n",
    "    #Combine positive and negative reviews and labels\n",
    "    data_train = data['train']['pos'] + data['train']['neg']\n",
    "    data_test = data['test']['pos'] + data['test']['neg']\n",
    "    labels_train = labels['train']['pos'] + labels['train']['neg']\n",
    "    labels_test = labels['test']['pos'] + labels['test']['neg']\n",
    "    \n",
    "    #Shuffle reviews and corresponding labels within training and test sets\n",
    "    data_train, labels_train = shuffle(data_train, labels_train)\n",
    "    data_test, labels_test = shuffle(data_test, labels_test)\n",
    "    \n",
    "    # Return a unified training data, test data, training labels, test labets\n",
    "    return data_train, data_test, labels_train, labels_test"
   ]
  },
  {
   "cell_type": "code",
   "execution_count": 6,
   "metadata": {},
   "outputs": [
    {
     "name": "stdout",
     "output_type": "stream",
     "text": [
      "IMDb reviews (combined): train = 25000, test = 25000\n"
     ]
    }
   ],
   "source": [
    "train_X, test_X, train_y, test_y = prepare_imdb_data(data, labels)\n",
    "print(\"IMDb reviews (combined): train = {}, test = {}\".format(len(train_X), len(test_X)))"
   ]
  },
  {
   "cell_type": "markdown",
   "metadata": {},
   "source": [
    "Now that we have our training and testing sets unified and prepared, we should do a quick check and see an example of the data our model will be trained on. This is generally a good idea as it allows you to see how each of the further processing steps affects the reviews and it also ensures that the data has been loaded correctly."
   ]
  },
  {
   "cell_type": "code",
   "execution_count": 7,
   "metadata": {},
   "outputs": [
    {
     "name": "stdout",
     "output_type": "stream",
     "text": [
      "This is a thoroughly diabolical tale of just how bad things can go wrong. A simple robbery. Pick up some serious change. Get our finances together and everything will be hunky-dory. Butmom and pop's jewelry store? No problem. Insurance pays for it all. No guns. Nobody gets hurt. Easy money.<br /><br />Older, more successful (it would appear) brother Andy (Philip Seymour Hoffman) has a few minor problems. Heroin addiction, cocaine habituation. A wife (Marisa Tomei) that",
      "well, he can't seem to perform for. His flat belly days long gone. Younger, sweet, slightly dim-witted younger brother, Hank (Ethan Hawke) with a few dinero problems of his own. Behind in child support payments for his daughter, in debt to friends and relatives, not exactly wowing them in the work of work, etc.<br /><br />Sydney Lumet, in this performance at the age of 82 (!), directs and gets it 99.99 percent right, which is hard to do in a thriller. I have seen more thrillers than I can remember and most of the time the director gets the movie printed and lives with the plot holes, the improbabilities, the cheesy scenes, and the hurry-up ending. Here Lumet makes a thriller like it's a work of art. Every detail is perfect. The acting is superb. The plot has no holes. The story rings true and clear and represents a tale about human frailty that would honor the greatest filmmakers and even the Bard himself.<br /><br />Hoffman of course is excellent. When you don't have marquee, leading man presence, you have to get by on talent, workmanship and pure concentration. Ethan Hawke, who is no stranger to the sweet, little guy role, adds a layer of desperation and all too human incompetence to the part so that we don't know whether to pity him or trash him. Albert Finney plays the father of the wayward sons with a kind of steely intensity that belies his age. And Marisa Tomei, who has magical qualities of sexiness to go along with her unique creativity, manages to be both vulnerable and hard as nails as Andy's two timing wife. (But who could blame her?) It's almost a movie reviewer's sacrilege to give a commercial thriller five or ten stars, but if you study this film, as all aspiring film makers would be well advised to do, you will notice the kind of excessive (according to most Hollywood producers) attention to detail that makes for real art--the sort of thing that only great artists can do, and indeed cannot help but do. (By the way, I think there were twenty producers on this filmwell, maybe a dozen; check the credits.) All I can say in summation is, Way to go Sydney Lumet, author of a slew of excellent films, and to show such fidelity to your craft and your art at such an advanced agekudos. May we all do half so well.<br /><br />Okay, the 00.01 percent. It was unlikely that the father (Albert Finney) could have followed the cabs that Andy took around New York without somehow losing the tail. This is minor, and I wish all thrillers could have so small a blip. Also one wonders why Lumet decided not to tell us about the fate of Hank at the end. We can guess and guess. Perhaps his fate fell onto the cutting room floor. Perhaps Lumet was not satisfied with what was filmed and time ran out, and he just said, \"Leave it like that. It really doesn't matter.\" And I think it doesn't. What happens to Hank is not going to be good. He isn't the kind of guy who manages to run off to Mexico and is able to start a new life. He is the kind of guy who gets a \"light\" sentence of 10 to 20 and serves it and comes out a kind of shrunken human being who knows he wasn't really a man when he should have been.<br /><br />See this for Sidney Lumet, one of Hollywood's best, director of The Pawnbroker (1964), The Group (1966), Serpico (1973), Dog Day Afternoon (1975), Network (1976), and many more.\n",
      "1\n"
     ]
    }
   ],
   "source": [
    "print(train_X[100])\n",
    "print(train_y[100])"
   ]
  },
  {
   "cell_type": "markdown",
   "metadata": {},
   "source": [
    "The first step in processing the reviews is to make sure that any html tags that appear should be removed. In addition we wish to tokenize our input, that way words such as *entertained* and *entertaining* are considered the same with regard to sentiment analysis."
   ]
  },
  {
   "cell_type": "code",
   "execution_count": 8,
   "metadata": {},
   "outputs": [],
   "source": [
    "import nltk\n",
    "from nltk.corpus import stopwords\n",
    "from nltk.stem.porter import *\n",
    "\n",
    "import re\n",
    "from bs4 import BeautifulSoup\n",
    "\n",
    "def review_to_words(review):\n",
    "    nltk.download(\"stopwords\", quiet=True)\n",
    "    stemmer = PorterStemmer()\n",
    "    \n",
    "    text = BeautifulSoup(review, \"html.parser\").get_text() # Remove HTML tags\n",
    "    text = re.sub(r\"[^a-zA-Z0-9]\", \" \", text.lower()) # Convert to lower case\n",
    "    words = text.split() # Split string into words\n",
    "    words = [wrd for wrd in words if wrd not in stopwords.words(\"english\")] # Remove stopwords\n",
    "    words = [PorterStemmer().stem(wrd) for wrd in words] \n",
    "    \n",
    "    return words"
   ]
  },
  {
   "cell_type": "markdown",
   "metadata": {},
   "source": [
    "The `review_to_words` method defined above uses `BeautifulSoup` to remove any html tags that appear and uses the `nltk` package to tokenize the reviews. As a check to ensure we know how everything is working, try applying `review_to_words` to one of the reviews in the training set."
   ]
  },
  {
   "cell_type": "code",
   "execution_count": 9,
   "metadata": {},
   "outputs": [
    {
     "data": {
      "text/plain": [
       "['thoroughli',\n",
       " 'diabol',\n",
       " 'tale',\n",
       " 'bad',\n",
       " 'thing',\n",
       " 'go',\n",
       " 'wrong',\n",
       " 'simpl',\n",
       " 'robberi',\n",
       " 'pick',\n",
       " 'seriou',\n",
       " 'chang',\n",
       " 'get',\n",
       " 'financ',\n",
       " 'togeth',\n",
       " 'everyth',\n",
       " 'hunki',\n",
       " 'dori',\n",
       " 'mom',\n",
       " 'pop',\n",
       " 'jewelri',\n",
       " 'store',\n",
       " 'problem',\n",
       " 'insur',\n",
       " 'pay',\n",
       " 'gun',\n",
       " 'nobodi',\n",
       " 'get',\n",
       " 'hurt',\n",
       " 'easi',\n",
       " 'money',\n",
       " 'older',\n",
       " 'success',\n",
       " 'would',\n",
       " 'appear',\n",
       " 'brother',\n",
       " 'andi',\n",
       " 'philip',\n",
       " 'seymour',\n",
       " 'hoffman',\n",
       " 'minor',\n",
       " 'problem',\n",
       " 'heroin',\n",
       " 'addict',\n",
       " 'cocain',\n",
       " 'habitu',\n",
       " 'wife',\n",
       " 'marisa',\n",
       " 'tomei',\n",
       " 'well',\n",
       " 'seem',\n",
       " 'perform',\n",
       " 'flat',\n",
       " 'belli',\n",
       " 'day',\n",
       " 'long',\n",
       " 'gone',\n",
       " 'younger',\n",
       " 'sweet',\n",
       " 'slightli',\n",
       " 'dim',\n",
       " 'wit',\n",
       " 'younger',\n",
       " 'brother',\n",
       " 'hank',\n",
       " 'ethan',\n",
       " 'hawk',\n",
       " 'dinero',\n",
       " 'problem',\n",
       " 'behind',\n",
       " 'child',\n",
       " 'support',\n",
       " 'payment',\n",
       " 'daughter',\n",
       " 'debt',\n",
       " 'friend',\n",
       " 'rel',\n",
       " 'exactli',\n",
       " 'wow',\n",
       " 'work',\n",
       " 'work',\n",
       " 'etc',\n",
       " 'sydney',\n",
       " 'lumet',\n",
       " 'perform',\n",
       " 'age',\n",
       " '82',\n",
       " 'direct',\n",
       " 'get',\n",
       " '99',\n",
       " '99',\n",
       " 'percent',\n",
       " 'right',\n",
       " 'hard',\n",
       " 'thriller',\n",
       " 'seen',\n",
       " 'thriller',\n",
       " 'rememb',\n",
       " 'time',\n",
       " 'director',\n",
       " 'get',\n",
       " 'movi',\n",
       " 'print',\n",
       " 'live',\n",
       " 'plot',\n",
       " 'hole',\n",
       " 'improb',\n",
       " 'cheesi',\n",
       " 'scene',\n",
       " 'hurri',\n",
       " 'end',\n",
       " 'lumet',\n",
       " 'make',\n",
       " 'thriller',\n",
       " 'like',\n",
       " 'work',\n",
       " 'art',\n",
       " 'everi',\n",
       " 'detail',\n",
       " 'perfect',\n",
       " 'act',\n",
       " 'superb',\n",
       " 'plot',\n",
       " 'hole',\n",
       " 'stori',\n",
       " 'ring',\n",
       " 'true',\n",
       " 'clear',\n",
       " 'repres',\n",
       " 'tale',\n",
       " 'human',\n",
       " 'frailti',\n",
       " 'would',\n",
       " 'honor',\n",
       " 'greatest',\n",
       " 'filmmak',\n",
       " 'even',\n",
       " 'bard',\n",
       " 'hoffman',\n",
       " 'cours',\n",
       " 'excel',\n",
       " 'marque',\n",
       " 'lead',\n",
       " 'man',\n",
       " 'presenc',\n",
       " 'get',\n",
       " 'talent',\n",
       " 'workmanship',\n",
       " 'pure',\n",
       " 'concentr',\n",
       " 'ethan',\n",
       " 'hawk',\n",
       " 'stranger',\n",
       " 'sweet',\n",
       " 'littl',\n",
       " 'guy',\n",
       " 'role',\n",
       " 'add',\n",
       " 'layer',\n",
       " 'desper',\n",
       " 'human',\n",
       " 'incompet',\n",
       " 'part',\n",
       " 'know',\n",
       " 'whether',\n",
       " 'piti',\n",
       " 'trash',\n",
       " 'albert',\n",
       " 'finney',\n",
       " 'play',\n",
       " 'father',\n",
       " 'wayward',\n",
       " 'son',\n",
       " 'kind',\n",
       " 'steeli',\n",
       " 'intens',\n",
       " 'beli',\n",
       " 'age',\n",
       " 'marisa',\n",
       " 'tomei',\n",
       " 'magic',\n",
       " 'qualiti',\n",
       " 'sexi',\n",
       " 'go',\n",
       " 'along',\n",
       " 'uniqu',\n",
       " 'creativ',\n",
       " 'manag',\n",
       " 'vulner',\n",
       " 'hard',\n",
       " 'nail',\n",
       " 'andi',\n",
       " 'two',\n",
       " 'time',\n",
       " 'wife',\n",
       " 'could',\n",
       " 'blame',\n",
       " 'almost',\n",
       " 'movi',\n",
       " 'review',\n",
       " 'sacrileg',\n",
       " 'give',\n",
       " 'commerci',\n",
       " 'thriller',\n",
       " 'five',\n",
       " 'ten',\n",
       " 'star',\n",
       " 'studi',\n",
       " 'film',\n",
       " 'aspir',\n",
       " 'film',\n",
       " 'maker',\n",
       " 'would',\n",
       " 'well',\n",
       " 'advis',\n",
       " 'notic',\n",
       " 'kind',\n",
       " 'excess',\n",
       " 'accord',\n",
       " 'hollywood',\n",
       " 'produc',\n",
       " 'attent',\n",
       " 'detail',\n",
       " 'make',\n",
       " 'real',\n",
       " 'art',\n",
       " 'sort',\n",
       " 'thing',\n",
       " 'great',\n",
       " 'artist',\n",
       " 'inde',\n",
       " 'cannot',\n",
       " 'help',\n",
       " 'way',\n",
       " 'think',\n",
       " 'twenti',\n",
       " 'produc',\n",
       " 'film',\n",
       " 'well',\n",
       " 'mayb',\n",
       " 'dozen',\n",
       " 'check',\n",
       " 'credit',\n",
       " 'say',\n",
       " 'summat',\n",
       " 'way',\n",
       " 'go',\n",
       " 'sydney',\n",
       " 'lumet',\n",
       " 'author',\n",
       " 'slew',\n",
       " 'excel',\n",
       " 'film',\n",
       " 'show',\n",
       " 'fidel',\n",
       " 'craft',\n",
       " 'art',\n",
       " 'advanc',\n",
       " 'age',\n",
       " 'kudo',\n",
       " 'may',\n",
       " 'half',\n",
       " 'well',\n",
       " 'okay',\n",
       " '00',\n",
       " '01',\n",
       " 'percent',\n",
       " 'unlik',\n",
       " 'father',\n",
       " 'albert',\n",
       " 'finney',\n",
       " 'could',\n",
       " 'follow',\n",
       " 'cab',\n",
       " 'andi',\n",
       " 'took',\n",
       " 'around',\n",
       " 'new',\n",
       " 'york',\n",
       " 'without',\n",
       " 'somehow',\n",
       " 'lose',\n",
       " 'tail',\n",
       " 'minor',\n",
       " 'wish',\n",
       " 'thriller',\n",
       " 'could',\n",
       " 'small',\n",
       " 'blip',\n",
       " 'also',\n",
       " 'one',\n",
       " 'wonder',\n",
       " 'lumet',\n",
       " 'decid',\n",
       " 'tell',\n",
       " 'us',\n",
       " 'fate',\n",
       " 'hank',\n",
       " 'end',\n",
       " 'guess',\n",
       " 'guess',\n",
       " 'perhap',\n",
       " 'fate',\n",
       " 'fell',\n",
       " 'onto',\n",
       " 'cut',\n",
       " 'room',\n",
       " 'floor',\n",
       " 'perhap',\n",
       " 'lumet',\n",
       " 'satisfi',\n",
       " 'film',\n",
       " 'time',\n",
       " 'ran',\n",
       " 'said',\n",
       " 'leav',\n",
       " 'like',\n",
       " 'realli',\n",
       " 'matter',\n",
       " 'think',\n",
       " 'happen',\n",
       " 'hank',\n",
       " 'go',\n",
       " 'good',\n",
       " 'kind',\n",
       " 'guy',\n",
       " 'manag',\n",
       " 'run',\n",
       " 'mexico',\n",
       " 'abl',\n",
       " 'start',\n",
       " 'new',\n",
       " 'life',\n",
       " 'kind',\n",
       " 'guy',\n",
       " 'get',\n",
       " 'light',\n",
       " 'sentenc',\n",
       " '10',\n",
       " '20',\n",
       " 'serv',\n",
       " 'come',\n",
       " 'kind',\n",
       " 'shrunken',\n",
       " 'human',\n",
       " 'know',\n",
       " 'realli',\n",
       " 'man',\n",
       " 'see',\n",
       " 'sidney',\n",
       " 'lumet',\n",
       " 'one',\n",
       " 'hollywood',\n",
       " 'best',\n",
       " 'director',\n",
       " 'pawnbrok',\n",
       " '1964',\n",
       " 'group',\n",
       " '1966',\n",
       " 'serpico',\n",
       " '1973',\n",
       " 'dog',\n",
       " 'day',\n",
       " 'afternoon',\n",
       " '1975',\n",
       " 'network',\n",
       " '1976',\n",
       " 'mani']"
      ]
     },
     "execution_count": 9,
     "metadata": {},
     "output_type": "execute_result"
    }
   ],
   "source": [
    "# TODO: Apply review_to_words to a review (train_X[100] or any other review)\n",
    " review_to_words(train_X[100])"
   ]
  },
  {
   "cell_type": "markdown",
   "metadata": {},
   "source": [
    "**Question:** Above we mentioned that `review_to_words` method removes html formatting and allows us to tokenize the words found in a review, for example, converting *entertained* and *entertaining* into *entertain* so that they are treated as though they are the same word. What else, if anything, does this method do to the input?"
   ]
  },
  {
   "cell_type": "markdown",
   "metadata": {},
   "source": [
    "**Answer:**"
   ]
  },
  {
   "cell_type": "markdown",
   "metadata": {},
   "source": [
    "The method below applies the `review_to_words` method to each of the reviews in the training and testing datasets. In addition it caches the results. This is because performing this processing step can take a long time. This way if you are unable to complete the notebook in the current session, you can come back without needing to process the data a second time."
   ]
  },
  {
   "cell_type": "code",
   "execution_count": 10,
   "metadata": {},
   "outputs": [],
   "source": [
    "import pickle\n",
    "\n",
    "cache_dir = os.path.join(\"../cache\", \"sentiment_analysis\")  # where to store cache files\n",
    "os.makedirs(cache_dir, exist_ok=True)  # ensure cache directory exists\n",
    "\n",
    "def preprocess_data(data_train, data_test, labels_train, labels_test,\n",
    "                    cache_dir=cache_dir, cache_file=\"preprocessed_data.pkl\"):\n",
    "    \"\"\"Convert each review to words; read from cache if available.\"\"\"\n",
    "\n",
    "    # If cache_file is not None, try to read from it first\n",
    "    cache_data = None\n",
    "    if cache_file is not None:\n",
    "        try:\n",
    "            with open(os.path.join(cache_dir, cache_file), \"rb\") as f:\n",
    "                cache_data = pickle.load(f)\n",
    "            print(\"Read preprocessed data from cache file:\", cache_file)\n",
    "        except:\n",
    "            pass  # unable to read from cache, but that's okay\n",
    "    \n",
    "    # If cache is missing, then do the heavy lifting\n",
    "    if cache_data is None:\n",
    "        # Preprocess training and test data to obtain words for each review\n",
    "        #words_train = list(map(review_to_words, data_train))\n",
    "        #words_test = list(map(review_to_words, data_test))\n",
    "        words_train = [review_to_words(review) for review in data_train]\n",
    "        words_test = [review_to_words(review) for review in data_test]\n",
    "        \n",
    "        # Write to cache file for future runs\n",
    "        if cache_file is not None:\n",
    "            cache_data = dict(words_train=words_train, words_test=words_test,\n",
    "                              labels_train=labels_train, labels_test=labels_test)\n",
    "            with open(os.path.join(cache_dir, cache_file), \"wb\") as f:\n",
    "                pickle.dump(cache_data, f)\n",
    "            print(\"Wrote preprocessed data to cache file:\", cache_file)\n",
    "    else:\n",
    "        # Unpack data loaded from cache file\n",
    "        words_train, words_test, labels_train, labels_test = (cache_data['words_train'],\n",
    "                cache_data['words_test'], cache_data['labels_train'], cache_data['labels_test'])\n",
    "    \n",
    "    return words_train, words_test, labels_train, labels_test"
   ]
  },
  {
   "cell_type": "code",
   "execution_count": 11,
   "metadata": {},
   "outputs": [
    {
     "name": "stdout",
     "output_type": "stream",
     "text": [
      "Read preprocessed data from cache file: preprocessed_data.pkl\n"
     ]
    }
   ],
   "source": [
    "# Preprocess data\n",
    "train_X, test_X, train_y, test_y = preprocess_data(train_X, test_X, train_y, test_y)"
   ]
  },
  {
   "cell_type": "markdown",
   "metadata": {},
   "source": [
    "## Transform the data\n",
    "\n",
    "In the XGBoost notebook we transformed the data from its word representation to a bag-of-words feature representation. For the model we are going to construct in this notebook we will construct a feature representation which is very similar. To start, we will represent each word as an integer. Of course, some of the words that appear in the reviews occur very infrequently and so likely don't contain much information for the purposes of sentiment analysis. The way we will deal with this problem is that we will fix the size of our working vocabulary and we will only include the words that appear most frequently. We will then combine all of the infrequent words into a single category and, in our case, we will label it as `1`.\n",
    "\n",
    "Since we will be using a recurrent neural network, it will be convenient if the length of each review is the same. To do this, we will fix a size for our reviews and then pad short reviews with the category 'no word' (which we will label `0`) and truncate long reviews."
   ]
  },
  {
   "cell_type": "markdown",
   "metadata": {},
   "source": [
    "### (TODO) Create a word dictionary\n",
    "\n",
    "To begin with, we need to construct a way to map words that appear in the reviews to integers. Here we fix the size of our vocabulary (including the 'no word' and 'infrequent' categories) to be `5000` but you may wish to change this to see how it affects the model.\n",
    "\n",
    "> **TODO:** Complete the implementation for the `build_dict()` method below. Note that even though the vocab_size is set to `5000`, we only want to construct a mapping for the most frequently appearing `4998` words. This is because we want to reserve the special labels `0` for 'no word' and `1` for 'infrequent word'."
   ]
  },
  {
   "cell_type": "code",
   "execution_count": 12,
   "metadata": {},
   "outputs": [],
   "source": [
    "import numpy as np\n",
    "\n",
    "def build_dict(train_X, vocab_size = 5000):\n",
    "    \"\"\"Construct and return a dictionary mapping each of the most frequently appearing words to a unique integer.\"\"\"\n",
    "    \n",
    "    # TODO: Determine how often each word appears in `data`. Note that `data` is a list of sentences and that a\n",
    "    #       sentence is a list of words.\n",
    "\n",
    "    import itertools\n",
    "    merged_list=itertools.chain.from_iterable(train_X)\n",
    "\n",
    "    word_count = dict()\n",
    "    for wrd in merged_list:\n",
    "        if word_count.get(wrd) is not None:            \n",
    "            word_count[wrd] += 1\n",
    "        else:\n",
    "            word_count[wrd] = 1\n",
    "    \n",
    "    # TODO: Sort the words found in `data` so that sorted_words[0] is the most frequently appearing word and\n",
    "    #       sorted_words[-1] is the least frequently appearing word.\n",
    "    \n",
    "    sorted_words = {k: v for k, v in sorted(word_count.items(), key=lambda item: item[1], reverse=True)}\n",
    "    sorted_words=list(sorted_words.keys())\n",
    "\n",
    "    word_dict = {} # This is what we are building, a dictionary that translates words into integers\n",
    "    for idx, word in enumerate(sorted_words[:vocab_size - 2]): # The -2 is so that we save room for the 'no word'\n",
    "        word_dict[word] = idx + 2                              # 'infrequent' labels\n",
    "        \n",
    "    return word_dict"
   ]
  },
  {
   "cell_type": "code",
   "execution_count": 13,
   "metadata": {},
   "outputs": [],
   "source": [
    "word_dict = build_dict(train_X)"
   ]
  },
  {
   "cell_type": "markdown",
   "metadata": {},
   "source": [
    "**Question:** What are the five most frequently appearing (tokenized) words in the training set? Does it makes sense that these words appear frequently in the training set?"
   ]
  },
  {
   "cell_type": "markdown",
   "metadata": {},
   "source": [
    "**Answer:**"
   ]
  },
  {
   "cell_type": "code",
   "execution_count": 16,
   "metadata": {},
   "outputs": [
    {
     "name": "stdout",
     "output_type": "stream",
     "text": [
      "['movi', 'film', 'one', 'like', 'time']\n"
     ]
    }
   ],
   "source": [
    "# TODO: Use this space to determine the five most frequently appearing words in the training set.\n",
    "print(list(word_dict.keys())[0:5])\n",
    "# The word \"film\" and \"movie\" seems to fit, but the word \"time\" looks hard to catch."
   ]
  },
  {
   "cell_type": "markdown",
   "metadata": {},
   "source": [
    "### Save `word_dict`\n",
    "\n",
    "Later on when we construct an endpoint which processes a submitted review we will need to make use of the `word_dict` which we have created. As such, we will save it to a file now for future use."
   ]
  },
  {
   "cell_type": "code",
   "execution_count": 17,
   "metadata": {},
   "outputs": [],
   "source": [
    "data_dir = '../data/pytorch' # The folder we will use for storing data\n",
    "if not os.path.exists(data_dir): # Make sure that the folder exists\n",
    "    os.makedirs(data_dir)"
   ]
  },
  {
   "cell_type": "code",
   "execution_count": 18,
   "metadata": {},
   "outputs": [],
   "source": [
    "with open(os.path.join(data_dir, 'word_dict.pkl'), \"wb\") as f:\n",
    "    pickle.dump(word_dict, f)"
   ]
  },
  {
   "cell_type": "markdown",
   "metadata": {},
   "source": [
    "### Transform the reviews\n",
    "\n",
    "Now that we have our word dictionary which allows us to transform the words appearing in the reviews into integers, it is time to make use of it and convert our reviews to their integer sequence representation, making sure to pad or truncate to a fixed length, which in our case is `500`."
   ]
  },
  {
   "cell_type": "code",
   "execution_count": 19,
   "metadata": {},
   "outputs": [],
   "source": [
    "def convert_and_pad(word_dict, sentence, pad=500):\n",
    "    NOWORD = 0 # We will use 0 to represent the 'no word' category\n",
    "    INFREQ = 1 # and we use 1 to represent the infrequent words, i.e., words not appearing in word_dict\n",
    "    \n",
    "    working_sentence = [NOWORD] * pad\n",
    "    \n",
    "    for word_index, word in enumerate(sentence[:pad]):\n",
    "        if word in word_dict:\n",
    "            working_sentence[word_index] = word_dict[word]\n",
    "        else:\n",
    "            working_sentence[word_index] = INFREQ\n",
    "            \n",
    "    return working_sentence, min(len(sentence), pad)\n",
    "\n",
    "def convert_and_pad_data(word_dict, data, pad=500):\n",
    "    result = []\n",
    "    lengths = []\n",
    "    \n",
    "    for sentence in data:\n",
    "        converted, leng = convert_and_pad(word_dict, sentence, pad)\n",
    "        result.append(converted)\n",
    "        lengths.append(leng)\n",
    "        \n",
    "    return np.array(result), np.array(lengths)"
   ]
  },
  {
   "cell_type": "code",
   "execution_count": 20,
   "metadata": {},
   "outputs": [],
   "source": [
    "train_X, train_X_len = convert_and_pad_data(word_dict, train_X)\n",
    "test_X, test_X_len = convert_and_pad_data(word_dict, test_X)"
   ]
  },
  {
   "cell_type": "markdown",
   "metadata": {},
   "source": [
    "As a quick check to make sure that things are working as intended, check to see what one of the reviews in the training set looks like after having been processeed. Does this look reasonable? What is the length of a review in the training set?"
   ]
  },
  {
   "cell_type": "code",
   "execution_count": 21,
   "metadata": {},
   "outputs": [
    {
     "name": "stdout",
     "output_type": "stream",
     "text": [
      "[ 140  634  781   12 3420   13  129  891 3736  338  694   83  101 2079\n",
      "   45   30   14   83  101   21  224    1    1  345  792 2611  635 4250\n",
      "    0    0    0    0    0    0    0    0    0    0    0    0    0    0\n",
      "    0    0    0    0    0    0    0    0    0    0    0    0    0    0\n",
      "    0    0    0    0    0    0    0    0    0    0    0    0    0    0\n",
      "    0    0    0    0    0    0    0    0    0    0    0    0    0    0\n",
      "    0    0    0    0    0    0    0    0    0    0    0    0    0    0\n",
      "    0    0    0    0    0    0    0    0    0    0    0    0    0    0\n",
      "    0    0    0    0    0    0    0    0    0    0    0    0    0    0\n",
      "    0    0    0    0    0    0    0    0    0    0    0    0    0    0\n",
      "    0    0    0    0    0    0    0    0    0    0    0    0    0    0\n",
      "    0    0    0    0    0    0    0    0    0    0    0    0    0    0\n",
      "    0    0    0    0    0    0    0    0    0    0    0    0    0    0\n",
      "    0    0    0    0    0    0    0    0    0    0    0    0    0    0\n",
      "    0    0    0    0    0    0    0    0    0    0    0    0    0    0\n",
      "    0    0    0    0    0    0    0    0    0    0    0    0    0    0\n",
      "    0    0    0    0    0    0    0    0    0    0    0    0    0    0\n",
      "    0    0    0    0    0    0    0    0    0    0    0    0    0    0\n",
      "    0    0    0    0    0    0    0    0    0    0    0    0    0    0\n",
      "    0    0    0    0    0    0    0    0    0    0    0    0    0    0\n",
      "    0    0    0    0    0    0    0    0    0    0    0    0    0    0\n",
      "    0    0    0    0    0    0    0    0    0    0    0    0    0    0\n",
      "    0    0    0    0    0    0    0    0    0    0    0    0    0    0\n",
      "    0    0    0    0    0    0    0    0    0    0    0    0    0    0\n",
      "    0    0    0    0    0    0    0    0    0    0    0    0    0    0\n",
      "    0    0    0    0    0    0    0    0    0    0    0    0    0    0\n",
      "    0    0    0    0    0    0    0    0    0    0    0    0    0    0\n",
      "    0    0    0    0    0    0    0    0    0    0    0    0    0    0\n",
      "    0    0    0    0    0    0    0    0    0    0    0    0    0    0\n",
      "    0    0    0    0    0    0    0    0    0    0    0    0    0    0\n",
      "    0    0    0    0    0    0    0    0    0    0    0    0    0    0\n",
      "    0    0    0    0    0    0    0    0    0    0    0    0    0    0\n",
      "    0    0    0    0    0    0    0    0    0    0    0    0    0    0\n",
      "    0    0    0    0    0    0    0    0    0    0    0    0    0    0\n",
      "    0    0    0    0    0    0    0    0    0    0    0    0    0    0\n",
      "    0    0    0    0    0    0    0    0    0    0]\n"
     ]
    },
    {
     "data": {
      "text/plain": [
       "500"
      ]
     },
     "execution_count": 21,
     "metadata": {},
     "output_type": "execute_result"
    }
   ],
   "source": [
    "# Use this cell to examine one of the processed reviews to make sure everything is working as intended.\n",
    "print(train_X[100])\n",
    "len(train_X[100])"
   ]
  },
  {
   "cell_type": "markdown",
   "metadata": {},
   "source": [
    "**Question:** In the cells above we use the `preprocess_data` and `convert_and_pad_data` methods to process both the training and testing set. Why or why not might this be a problem?"
   ]
  },
  {
   "cell_type": "markdown",
   "metadata": {},
   "source": [
    "**Answer:**"
   ]
  },
  {
   "cell_type": "markdown",
   "metadata": {},
   "source": [
    "## Step 3: Upload the data to S3\n",
    "\n",
    "As in the XGBoost notebook, we will need to upload the training dataset to S3 in order for our training code to access it. For now we will save it locally and we will upload to S3 later on.\n",
    "\n",
    "### Save the processed training dataset locally\n",
    "\n",
    "It is important to note the format of the data that we are saving as we will need to know it when we write the training code. In our case, each row of the dataset has the form `label`, `length`, `review[500]` where `review[500]` is a sequence of `500` integers representing the words in the review."
   ]
  },
  {
   "cell_type": "code",
   "execution_count": 22,
   "metadata": {},
   "outputs": [],
   "source": [
    "import pandas as pd\n",
    "    \n",
    "pd.concat([pd.DataFrame(train_y), pd.DataFrame(train_X_len), pd.DataFrame(train_X)], axis=1) \\\n",
    "        .to_csv(os.path.join(data_dir, 'train.csv'), header=False, index=False)"
   ]
  },
  {
   "cell_type": "markdown",
   "metadata": {},
   "source": [
    "### Uploading the training data\n",
    "\n",
    "\n",
    "Next, we need to upload the training data to the SageMaker default S3 bucket so that we can provide access to it while training our model."
   ]
  },
  {
   "cell_type": "code",
   "execution_count": 23,
   "metadata": {},
   "outputs": [],
   "source": [
    "import sagemaker\n",
    "\n",
    "sagemaker_session = sagemaker.Session()\n",
    "\n",
    "bucket = sagemaker_session.default_bucket()\n",
    "prefix = 'sagemaker/sentiment_rnn'\n",
    "\n",
    "role = sagemaker.get_execution_role()"
   ]
  },
  {
   "cell_type": "code",
   "execution_count": 24,
   "metadata": {},
   "outputs": [],
   "source": [
    "input_data = sagemaker_session.upload_data(path=data_dir, bucket=bucket, key_prefix=prefix)"
   ]
  },
  {
   "cell_type": "markdown",
   "metadata": {},
   "source": [
    "**NOTE:** The cell above uploads the entire contents of our data directory. This includes the `word_dict.pkl` file. This is fortunate as we will need this later on when we create an endpoint that accepts an arbitrary review. For now, we will just take note of the fact that it resides in the data directory (and so also in the S3 training bucket) and that we will need to make sure it gets saved in the model directory."
   ]
  },
  {
   "cell_type": "markdown",
   "metadata": {},
   "source": [
    "## Step 4: Build and Train the PyTorch Model\n",
    "\n",
    "In the XGBoost notebook we discussed what a model is in the SageMaker framework. In particular, a model comprises three objects\n",
    "\n",
    " - Model Artifacts,\n",
    " - Training Code, and\n",
    " - Inference Code,\n",
    " \n",
    "each of which interact with one another. In the XGBoost example we used training and inference code that was provided by Amazon. Here we will still be using containers provided by Amazon with the added benefit of being able to include our own custom code.\n",
    "\n",
    "We will start by implementing our own neural network in PyTorch along with a training script. For the purposes of this project we have provided the necessary model object in the `model.py` file, inside of the `train` folder. You can see the provided implementation by running the cell below."
   ]
  },
  {
   "cell_type": "code",
   "execution_count": 25,
   "metadata": {},
   "outputs": [
    {
     "name": "stdout",
     "output_type": "stream",
     "text": [
      "\u001b[34mimport\u001b[39;49;00m \u001b[04m\u001b[36mtorch\u001b[39;49;00m\u001b[04m\u001b[36m.\u001b[39;49;00m\u001b[04m\u001b[36mnn\u001b[39;49;00m \u001b[34mas\u001b[39;49;00m \u001b[04m\u001b[36mnn\u001b[39;49;00m\n",
      "\n",
      "\u001b[34mclass\u001b[39;49;00m \u001b[04m\u001b[32mLSTMClassifier\u001b[39;49;00m(nn.Module):\n",
      "    \u001b[33m\"\"\"\u001b[39;49;00m\n",
      "\u001b[33m    This is the simple RNN model we will be using to perform Sentiment Analysis.\u001b[39;49;00m\n",
      "\u001b[33m    \"\"\"\u001b[39;49;00m\n",
      "\n",
      "    \u001b[34mdef\u001b[39;49;00m \u001b[32m__init__\u001b[39;49;00m(\u001b[36mself\u001b[39;49;00m, embedding_dim, hidden_dim, vocab_size):\n",
      "        \u001b[33m\"\"\"\u001b[39;49;00m\n",
      "\u001b[33m        Initialize the model by settingg up the various layers.\u001b[39;49;00m\n",
      "\u001b[33m        \"\"\"\u001b[39;49;00m\n",
      "        \u001b[36msuper\u001b[39;49;00m(LSTMClassifier, \u001b[36mself\u001b[39;49;00m).\u001b[32m__init__\u001b[39;49;00m()\n",
      "\n",
      "        \u001b[36mself\u001b[39;49;00m.embedding = nn.Embedding(vocab_size, embedding_dim, padding_idx=\u001b[34m0\u001b[39;49;00m)\n",
      "        \u001b[36mself\u001b[39;49;00m.lstm = nn.LSTM(embedding_dim, hidden_dim)\n",
      "        \u001b[36mself\u001b[39;49;00m.dense = nn.Linear(in_features=hidden_dim, out_features=\u001b[34m1\u001b[39;49;00m)\n",
      "        \u001b[36mself\u001b[39;49;00m.sig = nn.Sigmoid()\n",
      "        \n",
      "        \u001b[36mself\u001b[39;49;00m.word_dict = \u001b[34mNone\u001b[39;49;00m\n",
      "\n",
      "    \u001b[34mdef\u001b[39;49;00m \u001b[32mforward\u001b[39;49;00m(\u001b[36mself\u001b[39;49;00m, x):\n",
      "        \u001b[33m\"\"\"\u001b[39;49;00m\n",
      "\u001b[33m        Perform a forward pass of our model on some input.\u001b[39;49;00m\n",
      "\u001b[33m        \"\"\"\u001b[39;49;00m\n",
      "        x = x.t()\n",
      "        lengths = x[\u001b[34m0\u001b[39;49;00m,:]\n",
      "        reviews = x[\u001b[34m1\u001b[39;49;00m:,:]\n",
      "        embeds = \u001b[36mself\u001b[39;49;00m.embedding(reviews)\n",
      "        lstm_out, _ = \u001b[36mself\u001b[39;49;00m.lstm(embeds)\n",
      "        out = \u001b[36mself\u001b[39;49;00m.dense(lstm_out)\n",
      "        out = out[lengths - \u001b[34m1\u001b[39;49;00m, \u001b[36mrange\u001b[39;49;00m(\u001b[36mlen\u001b[39;49;00m(lengths))]\n",
      "        \u001b[34mreturn\u001b[39;49;00m \u001b[36mself\u001b[39;49;00m.sig(out.squeeze())\n"
     ]
    }
   ],
   "source": [
    "!pygmentize train/model.py"
   ]
  },
  {
   "cell_type": "markdown",
   "metadata": {},
   "source": [
    "The important takeaway from the implementation provided is that there are three parameters that we may wish to tweak to improve the performance of our model. These are the embedding dimension, the hidden dimension and the size of the vocabulary. We will likely want to make these parameters configurable in the training script so that if we wish to modify them we do not need to modify the script itself. We will see how to do this later on. To start we will write some of the training code in the notebook so that we can more easily diagnose any issues that arise.\n",
    "\n",
    "First we will load a small portion of the training data set to use as a sample. It would be very time consuming to try and train the model completely in the notebook as we do not have access to a gpu and the compute instance that we are using is not particularly powerful. However, we can work on a small bit of the data to get a feel for how our training script is behaving."
   ]
  },
  {
   "cell_type": "code",
   "execution_count": 26,
   "metadata": {},
   "outputs": [],
   "source": [
    "import torch\n",
    "import torch.utils.data\n",
    "\n",
    "# Read in only the first 250 rows\n",
    "train_sample = pd.read_csv(os.path.join(data_dir, 'train.csv'), header=None, names=None, nrows=250)\n",
    "\n",
    "# Turn the input pandas dataframe into tensors\n",
    "train_sample_y = torch.from_numpy(train_sample[[0]].values).float().squeeze()\n",
    "train_sample_X = torch.from_numpy(train_sample.drop([0], axis=1).values).long()\n",
    "\n",
    "# Build the dataset\n",
    "train_sample_ds = torch.utils.data.TensorDataset(train_sample_X, train_sample_y)\n",
    "# Build the dataloader\n",
    "train_sample_dl = torch.utils.data.DataLoader(train_sample_ds, batch_size=50)"
   ]
  },
  {
   "cell_type": "markdown",
   "metadata": {},
   "source": [
    "### (TODO) Writing the training method\n",
    "\n",
    "Next we need to write the training code itself. This should be very similar to training methods that you have written before to train PyTorch models. We will leave any difficult aspects such as model saving / loading and parameter loading until a little later."
   ]
  },
  {
   "cell_type": "code",
   "execution_count": 51,
   "metadata": {},
   "outputs": [],
   "source": [
    "def train(model, train_loader, epochs, optimizer, loss_fn, device):\n",
    "            \n",
    "    for epoch in range(1, epochs + 1):\n",
    "        model.train()\n",
    "        total_loss = 0\n",
    "        for batch in train_loader:         \n",
    "            batch_X, batch_y = batch\n",
    "            \n",
    "            batch_X = batch_X.to(device)\n",
    "            batch_y = batch_y.to(device)\n",
    "            \n",
    "            # TODO: Complete this train method to train the model provided.\n",
    "           \n",
    "           # Zero parameter gradients\n",
    "            model.zero_grad()\n",
    "            \n",
    "            # forward/backward/optimize\n",
    "            outputs = model.forward(batch_X)\n",
    "            loss = loss_fn(outputs, batch_y)\n",
    "            loss.backward()\n",
    "            optimizer.step()\n",
    "            \n",
    "            total_loss +- loss.data.item()\n",
    "            \n",
    "            \n",
    "        print(\"Epoch: {}, BCELoss: {}\".format(epoch, total_loss / len(train_loader)))"
   ]
  },
  {
   "cell_type": "markdown",
   "metadata": {},
   "source": [
    "Supposing we have the training method above, we will test that it is working by writing a bit of code in the notebook that executes our training method on the small sample training set that we loaded earlier. The reason for doing this in the notebook is so that we have an opportunity to fix any errors that arise early when they are easier to diagnose."
   ]
  },
  {
   "cell_type": "code",
   "execution_count": 52,
   "metadata": {},
   "outputs": [
    {
     "name": "stdout",
     "output_type": "stream",
     "text": [
      "Epoch: 1, BCELoss: 0.0\n",
      "Epoch: 2, BCELoss: 0.0\n",
      "Epoch: 3, BCELoss: 0.0\n",
      "Epoch: 4, BCELoss: 0.0\n",
      "Epoch: 5, BCELoss: 0.0\n"
     ]
    }
   ],
   "source": [
    "import torch.optim as optim\n",
    "from train.model import LSTMClassifier\n",
    "\n",
    "device = torch.device(\"cuda\" if torch.cuda.is_available() else \"cpu\")\n",
    "model = LSTMClassifier(32, 100, 5000).to(device)\n",
    "optimizer = optim.Adam(model.parameters())\n",
    "loss_fn = torch.nn.BCELoss()\n",
    "\n",
    "train(model, train_sample_dl, 5, optimizer, loss_fn, device)"
   ]
  },
  {
   "cell_type": "markdown",
   "metadata": {},
   "source": [
    "In order to construct a PyTorch model using SageMaker we must provide SageMaker with a training script. We may optionally include a directory which will be copied to the container and from which our training code will be run. When the training container is executed it will check the uploaded directory (if there is one) for a `requirements.txt` file and install any required Python libraries, after which the training script will be run."
   ]
  },
  {
   "cell_type": "markdown",
   "metadata": {},
   "source": [
    "### (TODO) Training the model\n",
    "\n",
    "When a PyTorch model is constructed in SageMaker, an entry point must be specified. This is the Python file which will be executed when the model is trained. Inside of the `train` directory is a file called `train.py` which has been provided and which contains most of the necessary code to train our model. The only thing that is missing is the implementation of the `train()` method which you wrote earlier in this notebook.\n",
    "\n",
    "**TODO**: Copy the `train()` method written above and paste it into the `train/train.py` file where required.\n",
    "\n",
    "The way that SageMaker passes hyperparameters to the training script is by way of arguments. These arguments can then be parsed and used in the training script. To see how this is done take a look at the provided `train/train.py` file."
   ]
  },
  {
   "cell_type": "code",
   "execution_count": 53,
   "metadata": {},
   "outputs": [],
   "source": [
    "from sagemaker.pytorch import PyTorch\n",
    "\n",
    "estimator = PyTorch(entry_point=\"train.py\",\n",
    "                    source_dir=\"train\",\n",
    "                    role=role,\n",
    "                    framework_version='0.4.0',\n",
    "                    train_instance_count=1,\n",
    "                    train_instance_type='ml.p2.xlarge',\n",
    "                    hyperparameters={\n",
    "                        'epochs': 10,\n",
    "                        'hidden_dim': 200,\n",
    "                    })"
   ]
  },
  {
   "cell_type": "code",
   "execution_count": 54,
   "metadata": {},
   "outputs": [
    {
     "name": "stderr",
     "output_type": "stream",
     "text": [
      "'create_image_uri' will be deprecated in favor of 'ImageURIProvider' class in SageMaker Python SDK v2.\n",
      "'s3_input' class will be renamed to 'TrainingInput' in SageMaker Python SDK v2.\n",
      "'create_image_uri' will be deprecated in favor of 'ImageURIProvider' class in SageMaker Python SDK v2.\n"
     ]
    },
    {
     "name": "stdout",
     "output_type": "stream",
     "text": [
      "2021-04-02 23:45:20 Starting - Starting the training job...\n",
      "2021-04-02 23:45:21 Starting - Launching requested ML instances......\n",
      "2021-04-02 23:46:50 Starting - Preparing the instances for training.........\n",
      "2021-04-02 23:48:04 Downloading - Downloading input data...\n",
      "2021-04-02 23:48:43 Training - Downloading the training image...\n",
      "2021-04-02 23:49:12 Training - Training image download completed. Training in progress.\u001b[34mbash: cannot set terminal process group (-1): Inappropriate ioctl for device\u001b[0m\n",
      "\u001b[34mbash: no job control in this shell\u001b[0m\n",
      "\u001b[34m2021-04-02 23:49:13,147 sagemaker-containers INFO     Imported framework sagemaker_pytorch_container.training\u001b[0m\n",
      "\u001b[34m2021-04-02 23:49:13,173 sagemaker_pytorch_container.training INFO     Block until all host DNS lookups succeed.\u001b[0m\n",
      "\u001b[34m2021-04-02 23:49:16,188 sagemaker_pytorch_container.training INFO     Invoking user training script.\u001b[0m\n",
      "\u001b[34m2021-04-02 23:49:16,460 sagemaker-containers INFO     Module train does not provide a setup.py. \u001b[0m\n",
      "\u001b[34mGenerating setup.py\u001b[0m\n",
      "\u001b[34m2021-04-02 23:49:16,460 sagemaker-containers INFO     Generating setup.cfg\u001b[0m\n",
      "\u001b[34m2021-04-02 23:49:16,460 sagemaker-containers INFO     Generating MANIFEST.in\u001b[0m\n",
      "\u001b[34m2021-04-02 23:49:16,461 sagemaker-containers INFO     Installing module with the following command:\u001b[0m\n",
      "\u001b[34m/usr/bin/python -m pip install -U . -r requirements.txt\u001b[0m\n",
      "\u001b[34mProcessing /opt/ml/code\u001b[0m\n",
      "\u001b[34mCollecting pandas (from -r requirements.txt (line 1))\n",
      "  Downloading https://files.pythonhosted.org/packages/74/24/0cdbf8907e1e3bc5a8da03345c23cbed7044330bb8f73bb12e711a640a00/pandas-0.24.2-cp35-cp35m-manylinux1_x86_64.whl (10.0MB)\u001b[0m\n",
      "\u001b[34mCollecting numpy (from -r requirements.txt (line 2))\n",
      "  Downloading https://files.pythonhosted.org/packages/b5/36/88723426b4ff576809fec7d73594fe17a35c27f8d01f93637637a29ae25b/numpy-1.18.5-cp35-cp35m-manylinux1_x86_64.whl (19.9MB)\u001b[0m\n",
      "\u001b[34mCollecting nltk (from -r requirements.txt (line 3))\n",
      "  Downloading https://files.pythonhosted.org/packages/92/75/ce35194d8e3022203cca0d2f896dbb88689f9b3fce8e9f9cff942913519d/nltk-3.5.zip (1.4MB)\u001b[0m\n",
      "\u001b[34mCollecting beautifulsoup4 (from -r requirements.txt (line 4))\n",
      "  Downloading https://files.pythonhosted.org/packages/d1/41/e6495bd7d3781cee623ce23ea6ac73282a373088fcd0ddc809a047b18eae/beautifulsoup4-4.9.3-py3-none-any.whl (115kB)\u001b[0m\n",
      "\u001b[34mCollecting html5lib (from -r requirements.txt (line 5))\n",
      "  Downloading https://files.pythonhosted.org/packages/6c/dd/a834df6482147d48e225a49515aabc28974ad5a4ca3215c18a882565b028/html5lib-1.1-py2.py3-none-any.whl (112kB)\u001b[0m\n",
      "\u001b[34mCollecting pytz>=2011k (from pandas->-r requirements.txt (line 1))\n",
      "  Downloading https://files.pythonhosted.org/packages/70/94/784178ca5dd892a98f113cdd923372024dc04b8d40abe77ca76b5fb90ca6/pytz-2021.1-py2.py3-none-any.whl (510kB)\u001b[0m\n",
      "\u001b[34mRequirement already satisfied, skipping upgrade: python-dateutil>=2.5.0 in /usr/local/lib/python3.5/dist-packages (from pandas->-r requirements.txt (line 1)) (2.7.5)\u001b[0m\n",
      "\u001b[34mRequirement already satisfied, skipping upgrade: click in /usr/local/lib/python3.5/dist-packages (from nltk->-r requirements.txt (line 3)) (7.0)\u001b[0m\n",
      "\u001b[34mCollecting joblib (from nltk->-r requirements.txt (line 3))\n",
      "  Downloading https://files.pythonhosted.org/packages/28/5c/cf6a2b65a321c4a209efcdf64c2689efae2cb62661f8f6f4bb28547cf1bf/joblib-0.14.1-py2.py3-none-any.whl (294kB)\u001b[0m\n",
      "\u001b[34mCollecting regex (from nltk->-r requirements.txt (line 3))\n",
      "  Downloading https://files.pythonhosted.org/packages/84/cb/e7792d2c52f61a686ce0fabe79b3674c41238d07cd35c79b4062e9a807f6/regex-2021.3.17.tar.gz (694kB)\u001b[0m\n",
      "\u001b[34mCollecting tqdm (from nltk->-r requirements.txt (line 3))\n",
      "  Downloading https://files.pythonhosted.org/packages/f8/3e/2730d0effc282960dbff3cf91599ad0d8f3faedc8e75720fdf224b31ab24/tqdm-4.59.0-py2.py3-none-any.whl (74kB)\u001b[0m\n",
      "\u001b[34mCollecting soupsieve>1.2; python_version >= \"3.0\" (from beautifulsoup4->-r requirements.txt (line 4))\n",
      "  Downloading https://files.pythonhosted.org/packages/02/fb/1c65691a9aeb7bd6ac2aa505b84cb8b49ac29c976411c6ab3659425e045f/soupsieve-2.1-py3-none-any.whl\u001b[0m\n",
      "\u001b[34mCollecting webencodings (from html5lib->-r requirements.txt (line 5))\n",
      "  Downloading https://files.pythonhosted.org/packages/f4/24/2a3e3df732393fed8b3ebf2ec078f05546de641fe1b667ee316ec1dcf3b7/webencodings-0.5.1-py2.py3-none-any.whl\u001b[0m\n",
      "\u001b[34mRequirement already satisfied, skipping upgrade: six>=1.9 in /usr/local/lib/python3.5/dist-packages (from html5lib->-r requirements.txt (line 5)) (1.11.0)\u001b[0m\n",
      "\u001b[34mBuilding wheels for collected packages: nltk, train, regex\n",
      "  Running setup.py bdist_wheel for nltk: started\u001b[0m\n",
      "\u001b[34m  Running setup.py bdist_wheel for nltk: finished with status 'done'\n",
      "  Stored in directory: /root/.cache/pip/wheels/ae/8c/3f/b1fe0ba04555b08b57ab52ab7f86023639a526d8bc8d384306\n",
      "  Running setup.py bdist_wheel for train: started\n",
      "  Running setup.py bdist_wheel for train: finished with status 'done'\n",
      "  Stored in directory: /tmp/pip-ephem-wheel-cache-aexjoj5a/wheels/35/24/16/37574d11bf9bde50616c67372a334f94fa8356bc7164af8ca3\n",
      "  Running setup.py bdist_wheel for regex: started\u001b[0m\n",
      "\u001b[34m  Running setup.py bdist_wheel for regex: finished with status 'done'\n",
      "  Stored in directory: /root/.cache/pip/wheels/f7/2e/58/ac459d1adbd74ae21b5aa3a8ef20f2c7c0631978f7a4999009\u001b[0m\n",
      "\u001b[34mSuccessfully built nltk train regex\u001b[0m\n",
      "\u001b[34mInstalling collected packages: numpy, pytz, pandas, joblib, regex, tqdm, nltk, soupsieve, beautifulsoup4, webencodings, html5lib, train\n",
      "  Found existing installation: numpy 1.15.4\n",
      "    Uninstalling numpy-1.15.4:\u001b[0m\n",
      "\u001b[34m      Successfully uninstalled numpy-1.15.4\u001b[0m\n",
      "\u001b[34mSuccessfully installed beautifulsoup4-4.9.3 html5lib-1.1 joblib-0.14.1 nltk-3.5 numpy-1.18.5 pandas-0.24.2 pytz-2021.1 regex-2021.3.17 soupsieve-2.1 tqdm-4.59.0 train-1.0.0 webencodings-0.5.1\u001b[0m\n",
      "\u001b[34mYou are using pip version 18.1, however version 20.3.4 is available.\u001b[0m\n",
      "\u001b[34mYou should consider upgrading via the 'pip install --upgrade pip' command.\u001b[0m\n",
      "\u001b[34m2021-04-02 23:49:39,741 sagemaker-containers INFO     Invoking user script\n",
      "\u001b[0m\n",
      "\u001b[34mTraining Env:\n",
      "\u001b[0m\n",
      "\u001b[34m{\n",
      "    \"hyperparameters\": {\n",
      "        \"epochs\": 10,\n",
      "        \"hidden_dim\": 200\n",
      "    },\n",
      "    \"model_dir\": \"/opt/ml/model\",\n",
      "    \"input_config_dir\": \"/opt/ml/input/config\",\n",
      "    \"job_name\": \"sagemaker-pytorch-2021-04-02-23-45-19-597\",\n",
      "    \"log_level\": 20,\n",
      "    \"hosts\": [\n",
      "        \"algo-1\"\n",
      "    ],\n",
      "    \"module_name\": \"train\",\n",
      "    \"num_gpus\": 1,\n",
      "    \"channel_input_dirs\": {\n",
      "        \"training\": \"/opt/ml/input/data/training\"\n",
      "    },\n",
      "    \"user_entry_point\": \"train.py\",\n",
      "    \"network_interface_name\": \"eth0\",\n",
      "    \"framework_module\": \"sagemaker_pytorch_container.training:main\",\n",
      "    \"output_data_dir\": \"/opt/ml/output/data\",\n",
      "    \"module_dir\": \"s3://sagemaker-us-east-1-652745143900/sagemaker-pytorch-2021-04-02-23-45-19-597/source/sourcedir.tar.gz\",\n",
      "    \"input_data_config\": {\n",
      "        \"training\": {\n",
      "            \"TrainingInputMode\": \"File\",\n",
      "            \"RecordWrapperType\": \"None\",\n",
      "            \"S3DistributionType\": \"FullyReplicated\"\n",
      "        }\n",
      "    },\n",
      "    \"num_cpus\": 4,\n",
      "    \"current_host\": \"algo-1\",\n",
      "    \"output_intermediate_dir\": \"/opt/ml/output/intermediate\",\n",
      "    \"resource_config\": {\n",
      "        \"current_host\": \"algo-1\",\n",
      "        \"hosts\": [\n",
      "            \"algo-1\"\n",
      "        ],\n",
      "        \"network_interface_name\": \"eth0\"\n",
      "    },\n",
      "    \"additional_framework_parameters\": {},\n",
      "    \"input_dir\": \"/opt/ml/input\",\n",
      "    \"output_dir\": \"/opt/ml/output\"\u001b[0m\n",
      "\u001b[34m}\n",
      "\u001b[0m\n",
      "\u001b[34mEnvironment variables:\n",
      "\u001b[0m\n",
      "\u001b[34mSM_MODEL_DIR=/opt/ml/model\u001b[0m\n",
      "\u001b[34mSM_FRAMEWORK_MODULE=sagemaker_pytorch_container.training:main\u001b[0m\n",
      "\u001b[34mSM_OUTPUT_DIR=/opt/ml/output\u001b[0m\n",
      "\u001b[34mSM_NUM_CPUS=4\u001b[0m\n",
      "\u001b[34mSM_MODULE_DIR=s3://sagemaker-us-east-1-652745143900/sagemaker-pytorch-2021-04-02-23-45-19-597/source/sourcedir.tar.gz\u001b[0m\n",
      "\u001b[34mSM_OUTPUT_INTERMEDIATE_DIR=/opt/ml/output/intermediate\u001b[0m\n",
      "\u001b[34mSM_HPS={\"epochs\":10,\"hidden_dim\":200}\u001b[0m\n",
      "\u001b[34mSM_HOSTS=[\"algo-1\"]\u001b[0m\n",
      "\u001b[34mSM_RESOURCE_CONFIG={\"current_host\":\"algo-1\",\"hosts\":[\"algo-1\"],\"network_interface_name\":\"eth0\"}\u001b[0m\n",
      "\u001b[34mPYTHONPATH=/usr/local/bin:/usr/lib/python35.zip:/usr/lib/python3.5:/usr/lib/python3.5/plat-x86_64-linux-gnu:/usr/lib/python3.5/lib-dynload:/usr/local/lib/python3.5/dist-packages:/usr/lib/python3/dist-packages\u001b[0m\n",
      "\u001b[34mSM_USER_ENTRY_POINT=train.py\u001b[0m\n",
      "\u001b[34mSM_NETWORK_INTERFACE_NAME=eth0\u001b[0m\n",
      "\u001b[34mSM_INPUT_CONFIG_DIR=/opt/ml/input/config\u001b[0m\n",
      "\u001b[34mSM_OUTPUT_DATA_DIR=/opt/ml/output/data\u001b[0m\n",
      "\u001b[34mSM_CHANNEL_TRAINING=/opt/ml/input/data/training\u001b[0m\n",
      "\u001b[34mSM_NUM_GPUS=1\u001b[0m\n",
      "\u001b[34mSM_HP_EPOCHS=10\u001b[0m\n",
      "\u001b[34mSM_CHANNELS=[\"training\"]\u001b[0m\n",
      "\u001b[34mSM_INPUT_DATA_CONFIG={\"training\":{\"RecordWrapperType\":\"None\",\"S3DistributionType\":\"FullyReplicated\",\"TrainingInputMode\":\"File\"}}\u001b[0m\n",
      "\u001b[34mSM_MODULE_NAME=train\u001b[0m\n",
      "\u001b[34mSM_USER_ARGS=[\"--epochs\",\"10\",\"--hidden_dim\",\"200\"]\u001b[0m\n",
      "\u001b[34mSM_INPUT_DIR=/opt/ml/input\u001b[0m\n",
      "\u001b[34mSM_TRAINING_ENV={\"additional_framework_parameters\":{},\"channel_input_dirs\":{\"training\":\"/opt/ml/input/data/training\"},\"current_host\":\"algo-1\",\"framework_module\":\"sagemaker_pytorch_container.training:main\",\"hosts\":[\"algo-1\"],\"hyperparameters\":{\"epochs\":10,\"hidden_dim\":200},\"input_config_dir\":\"/opt/ml/input/config\",\"input_data_config\":{\"training\":{\"RecordWrapperType\":\"None\",\"S3DistributionType\":\"FullyReplicated\",\"TrainingInputMode\":\"File\"}},\"input_dir\":\"/opt/ml/input\",\"job_name\":\"sagemaker-pytorch-2021-04-02-23-45-19-597\",\"log_level\":20,\"model_dir\":\"/opt/ml/model\",\"module_dir\":\"s3://sagemaker-us-east-1-652745143900/sagemaker-pytorch-2021-04-02-23-45-19-597/source/sourcedir.tar.gz\",\"module_name\":\"train\",\"network_interface_name\":\"eth0\",\"num_cpus\":4,\"num_gpus\":1,\"output_data_dir\":\"/opt/ml/output/data\",\"output_dir\":\"/opt/ml/output\",\"output_intermediate_dir\":\"/opt/ml/output/intermediate\",\"resource_config\":{\"current_host\":\"algo-1\",\"hosts\":[\"algo-1\"],\"network_interface_name\":\"eth0\"},\"user_entry_point\":\"train.py\"}\u001b[0m\n",
      "\u001b[34mSM_CURRENT_HOST=algo-1\u001b[0m\n",
      "\u001b[34mSM_LOG_LEVEL=20\u001b[0m\n",
      "\u001b[34mSM_HP_HIDDEN_DIM=200\u001b[0m\n",
      "\u001b[34mSM_FRAMEWORK_PARAMS={}\n",
      "\u001b[0m\n",
      "\u001b[34mInvoking script with the following command:\n",
      "\u001b[0m\n",
      "\u001b[34m/usr/bin/python -m train --epochs 10 --hidden_dim 200\n",
      "\n",
      "\u001b[0m\n",
      "\u001b[34mUsing device cuda.\u001b[0m\n",
      "\u001b[34mGet train data loader.\u001b[0m\n"
     ]
    },
    {
     "name": "stdout",
     "output_type": "stream",
     "text": [
      "\u001b[34mModel loaded with embedding_dim 32, hidden_dim 200, vocab_size 5000.\u001b[0m\n",
      "\u001b[34mEpoch: 1: Loss: 0.01416304889990359\u001b[0m\n",
      "\u001b[34mEpoch: 1: Loss: 0.028273434055094818\u001b[0m\n",
      "\u001b[34mEpoch: 1: Loss: 0.042417404602984994\u001b[0m\n",
      "\u001b[34mEpoch: 1: Loss: 0.05655011352227659\u001b[0m\n",
      "\u001b[34mEpoch: 1: Loss: 0.0706548775945391\u001b[0m\n",
      "\u001b[34mEpoch: 1: Loss: 0.08474627684573738\u001b[0m\n",
      "\u001b[34mEpoch: 1: Loss: 0.09881904782081137\u001b[0m\n",
      "\u001b[34mEpoch: 1: Loss: 0.11294572207392478\u001b[0m\n",
      "\u001b[34mEpoch: 1: Loss: 0.12705614128891302\u001b[0m\n",
      "\u001b[34mEpoch: 1: Loss: 0.14113044860411664\u001b[0m\n",
      "\u001b[34mEpoch: 1: Loss: 0.15523101237355447\u001b[0m\n",
      "\u001b[34mEpoch: 1: Loss: 0.16934262003217423\u001b[0m\n",
      "\u001b[34mEpoch: 1: Loss: 0.18330515160852548\u001b[0m\n",
      "\u001b[34mEpoch: 1: Loss: 0.19736457357601245\u001b[0m\n",
      "\u001b[34mEpoch: 1: Loss: 0.21134054295870722\u001b[0m\n",
      "\u001b[34mEpoch: 1: Loss: 0.2253308393517319\u001b[0m\n",
      "\u001b[34mEpoch: 1: Loss: 0.23930109641989883\u001b[0m\n",
      "\u001b[34mEpoch: 1: Loss: 0.25329781916676736\u001b[0m\n",
      "\u001b[34mEpoch: 1: Loss: 0.2670859366047139\u001b[0m\n",
      "\u001b[34mEpoch: 1: Loss: 0.2810438652427829\u001b[0m\n",
      "\u001b[34mEpoch: 1: Loss: 0.2950028643316152\u001b[0m\n",
      "\u001b[34mEpoch: 1: Loss: 0.30884505534658624\u001b[0m\n",
      "\u001b[34mEpoch: 1: Loss: 0.3227814971184244\u001b[0m\n",
      "\u001b[34mEpoch: 1: Loss: 0.3365894823658223\u001b[0m\n",
      "\u001b[34mEpoch: 1: Loss: 0.35040997850651645\u001b[0m\n",
      "\u001b[34mEpoch: 1: Loss: 0.3638869219896745\u001b[0m\n",
      "\u001b[34mEpoch: 1: Loss: 0.37756331964414946\u001b[0m\n",
      "\u001b[34mEpoch: 1: Loss: 0.3915909881494483\u001b[0m\n",
      "\u001b[34mEpoch: 1: Loss: 0.4050164538986829\u001b[0m\n",
      "\u001b[34mEpoch: 1: Loss: 0.4184298320692413\u001b[0m\n",
      "\u001b[34mEpoch: 1: Loss: 0.4319226486342294\u001b[0m\n",
      "\u001b[34mEpoch: 1: Loss: 0.44493019459198935\u001b[0m\n",
      "\u001b[34mEpoch: 1: Loss: 0.45830325934351707\u001b[0m\n",
      "\u001b[34mEpoch: 1: Loss: 0.4714098037505636\u001b[0m\n",
      "\u001b[34mEpoch: 1: Loss: 0.4846997917914877\u001b[0m\n",
      "\u001b[34mEpoch: 1: Loss: 0.4981302959578378\u001b[0m\n",
      "\u001b[34mEpoch: 1: Loss: 0.5110285172657091\u001b[0m\n",
      "\u001b[34mEpoch: 1: Loss: 0.5241544477793635\u001b[0m\n",
      "\u001b[34mEpoch: 1: Loss: 0.537347073457679\u001b[0m\n",
      "\u001b[34mEpoch: 1: Loss: 0.550401505158872\u001b[0m\n",
      "\u001b[34mEpoch: 1: Loss: 0.5639911890029907\u001b[0m\n",
      "\u001b[34mEpoch: 1: Loss: 0.5772328717367989\u001b[0m\n",
      "\u001b[34mEpoch: 1: Loss: 0.5902871331390069\u001b[0m\n",
      "\u001b[34mEpoch: 1: Loss: 0.6032848674423841\u001b[0m\n",
      "\u001b[34mEpoch: 1: Loss: 0.6160512919328651\u001b[0m\n",
      "\u001b[34mEpoch: 1: Loss: 0.6291745767301443\u001b[0m\n",
      "\u001b[34mEpoch: 1: Loss: 0.6415370544608758\u001b[0m\n",
      "\u001b[34mEpoch: 1: Loss: 0.6541284359231287\u001b[0m\n",
      "\u001b[34mEpoch: 1: Loss: 0.6669429248693038\u001b[0m\n",
      "\u001b[34mEpoch: 2: Loss: 0.012915781566074916\u001b[0m\n",
      "\u001b[34mEpoch: 2: Loss: 0.025303716562232192\u001b[0m\n",
      "\u001b[34mEpoch: 2: Loss: 0.037969394605986924\u001b[0m\n",
      "\u001b[34mEpoch: 2: Loss: 0.050462553695756564\u001b[0m\n",
      "\u001b[34mEpoch: 2: Loss: 0.06299246695576882\u001b[0m\n",
      "\u001b[34mEpoch: 2: Loss: 0.07538759951688806\u001b[0m\n",
      "\u001b[34mEpoch: 2: Loss: 0.08741455783649367\u001b[0m\n",
      "\u001b[34mEpoch: 2: Loss: 0.09990018241259517\u001b[0m\n",
      "\u001b[34mEpoch: 2: Loss: 0.11256764129716523\u001b[0m\n",
      "\u001b[34mEpoch: 2: Loss: 0.12423262182547122\u001b[0m\n",
      "\u001b[34mEpoch: 2: Loss: 0.13599452680470991\u001b[0m\n",
      "\u001b[34mEpoch: 2: Loss: 0.1486401095682261\u001b[0m\n",
      "\u001b[34mEpoch: 2: Loss: 0.16066746322476133\u001b[0m\n",
      "\u001b[34mEpoch: 2: Loss: 0.17271954186108648\u001b[0m\n",
      "\u001b[34mEpoch: 2: Loss: 0.18510311233754062\u001b[0m\n",
      "\u001b[34mEpoch: 2: Loss: 0.19746384815293916\u001b[0m\n",
      "\u001b[34mEpoch: 2: Loss: 0.20933759090851764\u001b[0m\n",
      "\u001b[34mEpoch: 2: Loss: 0.22099739556409875\u001b[0m\n",
      "\u001b[34mEpoch: 2: Loss: 0.23208994646461642\u001b[0m\n",
      "\u001b[34mEpoch: 2: Loss: 0.24460209024195767\u001b[0m\n",
      "\u001b[34mEpoch: 2: Loss: 0.25683093070983887\u001b[0m\n",
      "\u001b[34mEpoch: 2: Loss: 0.26861599635104744\u001b[0m\n",
      "\u001b[34mEpoch: 2: Loss: 0.2804700330812104\u001b[0m\n",
      "\u001b[34mEpoch: 2: Loss: 0.2922336021248175\u001b[0m\n",
      "\u001b[34mEpoch: 2: Loss: 0.3036648558110607\u001b[0m\n",
      "\u001b[34mEpoch: 2: Loss: 0.31493441304382014\u001b[0m\n",
      "\u001b[34mEpoch: 2: Loss: 0.32673774446759907\u001b[0m\n",
      "\u001b[34mEpoch: 2: Loss: 0.3386083439904816\u001b[0m\n",
      "\u001b[34mEpoch: 2: Loss: 0.3495950321761929\u001b[0m\n",
      "\u001b[34mEpoch: 2: Loss: 0.3619465596821843\u001b[0m\n",
      "\u001b[34mEpoch: 2: Loss: 0.3738194375622029\u001b[0m\n",
      "\u001b[34mEpoch: 2: Loss: 0.38516363684011967\u001b[0m\n",
      "\u001b[34mEpoch: 2: Loss: 0.39699363708496094\u001b[0m\n",
      "\u001b[34mEpoch: 2: Loss: 0.40892188524713324\u001b[0m\n",
      "\u001b[34mEpoch: 2: Loss: 0.4203723778530043\u001b[0m\n",
      "\u001b[34mEpoch: 2: Loss: 0.43256208604695845\u001b[0m\n",
      "\u001b[34mEpoch: 2: Loss: 0.4438486050586311\u001b[0m\n",
      "\u001b[34mEpoch: 2: Loss: 0.45533295310273464\u001b[0m\n",
      "\u001b[34mEpoch: 2: Loss: 0.4664247899639363\u001b[0m\n",
      "\u001b[34mEpoch: 2: Loss: 0.4777221047148413\u001b[0m\n",
      "\u001b[34mEpoch: 2: Loss: 0.48974073663049816\u001b[0m\n",
      "\u001b[34mEpoch: 2: Loss: 0.5020075720183703\u001b[0m\n",
      "\u001b[34mEpoch: 2: Loss: 0.5127866292486385\u001b[0m\n",
      "\u001b[34mEpoch: 2: Loss: 0.5237655700469503\u001b[0m\n",
      "\u001b[34mEpoch: 2: Loss: 0.5346253903544679\u001b[0m\n",
      "\u001b[34mEpoch: 2: Loss: 0.5460229905284181\u001b[0m\n",
      "\u001b[34mEpoch: 2: Loss: 0.5568927319682374\u001b[0m\n",
      "\u001b[34mEpoch: 2: Loss: 0.5675030861582074\u001b[0m\n",
      "\u001b[34mEpoch: 2: Loss: 0.5783056166707253\u001b[0m\n",
      "\u001b[34mEpoch: 3: Loss: 0.011094034934530452\u001b[0m\n",
      "\u001b[34mEpoch: 3: Loss: 0.022084625399842555\u001b[0m\n",
      "\u001b[34mEpoch: 3: Loss: 0.033287965521520496\u001b[0m\n",
      "\u001b[34mEpoch: 3: Loss: 0.0445061240877424\u001b[0m\n",
      "\u001b[34mEpoch: 3: Loss: 0.05557105370930263\u001b[0m\n",
      "\u001b[34mEpoch: 3: Loss: 0.06631252595356532\u001b[0m\n",
      "\u001b[34mEpoch: 3: Loss: 0.07659198921553943\u001b[0m\n",
      "\u001b[34mEpoch: 3: Loss: 0.0875395062018414\u001b[0m\n",
      "\u001b[34mEpoch: 3: Loss: 0.0988110291714571\u001b[0m\n",
      "\u001b[34mEpoch: 3: Loss: 0.1088855047615207\u001b[0m\n",
      "\u001b[34mEpoch: 3: Loss: 0.11902773623563806\u001b[0m\n",
      "\u001b[34mEpoch: 3: Loss: 0.1299975234635022\u001b[0m\n",
      "\u001b[34mEpoch: 3: Loss: 0.14010348855232707\u001b[0m\n",
      "\u001b[34mEpoch: 3: Loss: 0.15087649895220387\u001b[0m\n",
      "\u001b[34mEpoch: 3: Loss: 0.16129086333878187\u001b[0m\n",
      "\u001b[34mEpoch: 3: Loss: 0.1725784832117509\u001b[0m\n",
      "\u001b[34mEpoch: 3: Loss: 0.18341578512775655\u001b[0m\n",
      "\u001b[34mEpoch: 3: Loss: 0.19371725710070864\u001b[0m\n",
      "\u001b[34mEpoch: 3: Loss: 0.20345062686472523\u001b[0m\n",
      "\u001b[34mEpoch: 3: Loss: 0.21387919297023694\u001b[0m\n",
      "\u001b[34mEpoch: 3: Loss: 0.22407864125407473\u001b[0m\n",
      "\u001b[34mEpoch: 3: Loss: 0.23447543200181456\u001b[0m\n",
      "\u001b[34mEpoch: 3: Loss: 0.2446155846118927\u001b[0m\n",
      "\u001b[34mEpoch: 3: Loss: 0.25529837669158467\u001b[0m\n",
      "\u001b[34mEpoch: 3: Loss: 0.2657016521813918\u001b[0m\n",
      "\u001b[34mEpoch: 3: Loss: 0.2748860084280676\u001b[0m\n",
      "\u001b[34mEpoch: 3: Loss: 0.28573217927193156\u001b[0m\n",
      "\u001b[34mEpoch: 3: Loss: 0.2963005936875635\u001b[0m\n",
      "\u001b[34mEpoch: 3: Loss: 0.3061297548060514\u001b[0m\n",
      "\u001b[34mEpoch: 3: Loss: 0.31620705614284594\u001b[0m\n",
      "\u001b[34mEpoch: 3: Loss: 0.32692261131442324\u001b[0m\n",
      "\u001b[34mEpoch: 3: Loss: 0.33672715632282957\u001b[0m\n",
      "\u001b[34mEpoch: 3: Loss: 0.34645060434633373\u001b[0m\n",
      "\u001b[34mEpoch: 3: Loss: 0.3563642824182705\u001b[0m\n",
      "\u001b[34mEpoch: 3: Loss: 0.36562324543388525\u001b[0m\n",
      "\u001b[34mEpoch: 3: Loss: 0.3758111012225248\u001b[0m\n",
      "\u001b[34mEpoch: 3: Loss: 0.3855966013305041\u001b[0m\n",
      "\u001b[34mEpoch: 3: Loss: 0.3958215068797676\u001b[0m\n",
      "\u001b[34mEpoch: 3: Loss: 0.4060304517648658\u001b[0m\n",
      "\u001b[34mEpoch: 3: Loss: 0.41574521575655254\u001b[0m\n",
      "\u001b[34mEpoch: 3: Loss: 0.42642598492758615\u001b[0m\n",
      "\u001b[34mEpoch: 3: Loss: 0.4370697761068539\u001b[0m\n",
      "\u001b[34mEpoch: 3: Loss: 0.44717083780132993\u001b[0m\n",
      "\u001b[34mEpoch: 3: Loss: 0.4567714017264697\u001b[0m\n",
      "\u001b[34mEpoch: 3: Loss: 0.4660201686985639\u001b[0m\n",
      "\u001b[34mEpoch: 3: Loss: 0.4762833708403062\u001b[0m\n",
      "\u001b[34mEpoch: 3: Loss: 0.485590859335296\u001b[0m\n",
      "\u001b[34mEpoch: 3: Loss: 0.49456792704913083\u001b[0m\n",
      "\u001b[34mEpoch: 3: Loss: 0.5038364237668563\u001b[0m\n",
      "\u001b[34mEpoch: 4: Loss: 0.009345322239155672\u001b[0m\n",
      "\u001b[34mEpoch: 4: Loss: 0.018446278207156122\u001b[0m\n",
      "\u001b[34mEpoch: 4: Loss: 0.0277903286778197\u001b[0m\n",
      "\u001b[34mEpoch: 4: Loss: 0.03759659553060726\u001b[0m\n",
      "\u001b[34mEpoch: 4: Loss: 0.047120899570231536\u001b[0m\n",
      "\u001b[34mEpoch: 4: Loss: 0.05648227796262624\u001b[0m\n",
      "\u001b[34mEpoch: 4: Loss: 0.06512341207387495\u001b[0m\n",
      "\u001b[34mEpoch: 4: Loss: 0.07489131360637899\u001b[0m\n",
      "\u001b[34mEpoch: 4: Loss: 0.08406807026084588\u001b[0m\n",
      "\u001b[34mEpoch: 4: Loss: 0.09259742984966356\u001b[0m\n",
      "\u001b[34mEpoch: 4: Loss: 0.10170076635419106\u001b[0m\n",
      "\u001b[34mEpoch: 4: Loss: 0.1108762786096456\u001b[0m\n",
      "\u001b[34mEpoch: 4: Loss: 0.11905344347564542\u001b[0m\n",
      "\u001b[34mEpoch: 4: Loss: 0.12794990563879208\u001b[0m\n",
      "\u001b[34mEpoch: 4: Loss: 0.1375132592356935\u001b[0m\n",
      "\u001b[34mEpoch: 4: Loss: 0.14754637041870428\u001b[0m\n",
      "\u001b[34mEpoch: 4: Loss: 0.1568644861785733\u001b[0m\n",
      "\u001b[34mEpoch: 4: Loss: 0.16661785147628005\u001b[0m\n",
      "\u001b[34mEpoch: 4: Loss: 0.1756562998100203\u001b[0m\n",
      "\u001b[34mEpoch: 4: Loss: 0.1852239893407238\u001b[0m\n",
      "\u001b[34mEpoch: 4: Loss: 0.19412162109297149\u001b[0m\n",
      "\u001b[34mEpoch: 4: Loss: 0.20278246244605708\u001b[0m\n",
      "\u001b[34mEpoch: 4: Loss: 0.21144556208532683\u001b[0m\n",
      "\u001b[34mEpoch: 4: Loss: 0.22062107312436008\u001b[0m\n",
      "\u001b[34mEpoch: 4: Loss: 0.22862087159740682\u001b[0m\n",
      "\u001b[34mEpoch: 4: Loss: 0.23656897459711348\u001b[0m\n",
      "\u001b[34mEpoch: 4: Loss: 0.2455162691826723\u001b[0m\n",
      "\u001b[34mEpoch: 4: Loss: 0.25504618883132935\u001b[0m\n",
      "\u001b[34mEpoch: 4: Loss: 0.2634156826807528\u001b[0m\n",
      "\u001b[34mEpoch: 4: Loss: 0.27164848361696514\u001b[0m\n",
      "\u001b[34mEpoch: 4: Loss: 0.2808290105693194\u001b[0m\n",
      "\u001b[34mEpoch: 4: Loss: 0.2891322952144\u001b[0m\n",
      "\u001b[34mEpoch: 4: Loss: 0.2983642482027716\u001b[0m\n",
      "\u001b[34mEpoch: 4: Loss: 0.30701223137427347\u001b[0m\n",
      "\u001b[34mEpoch: 4: Loss: 0.31550821297022763\u001b[0m\n",
      "\u001b[34mEpoch: 4: Loss: 0.32444643609377805\u001b[0m\n",
      "\u001b[34mEpoch: 4: Loss: 0.33291085946316623\u001b[0m\n",
      "\u001b[34mEpoch: 4: Loss: 0.3417763411998749\u001b[0m\n",
      "\u001b[34mEpoch: 4: Loss: 0.3505483421744133\u001b[0m\n",
      "\u001b[34mEpoch: 4: Loss: 0.35891349887361335\u001b[0m\n",
      "\u001b[34mEpoch: 4: Loss: 0.36825545405854987\u001b[0m\n",
      "\u001b[34mEpoch: 4: Loss: 0.3777635425937419\u001b[0m\n",
      "\u001b[34mEpoch: 4: Loss: 0.38639998861721586\u001b[0m\n",
      "\u001b[34mEpoch: 4: Loss: 0.39490410685539246\u001b[0m\n",
      "\u001b[34mEpoch: 4: Loss: 0.4036794383915103\u001b[0m\n",
      "\u001b[34mEpoch: 4: Loss: 0.4123292486278378\u001b[0m\n",
      "\u001b[34mEpoch: 4: Loss: 0.42050170655153235\u001b[0m\n",
      "\u001b[34mEpoch: 4: Loss: 0.42833249787895045\u001b[0m\n",
      "\u001b[34mEpoch: 4: Loss: 0.43613659605687977\u001b[0m\n",
      "\u001b[34mEpoch: 5: Loss: 0.00921670271425831\u001b[0m\n",
      "\u001b[34mEpoch: 5: Loss: 0.017464541050852562\u001b[0m\n",
      "\u001b[34mEpoch: 5: Loss: 0.02518252085666267\u001b[0m\n",
      "\u001b[34mEpoch: 5: Loss: 0.03420053756966883\u001b[0m\n",
      "\u001b[34mEpoch: 5: Loss: 0.042963060797477255\u001b[0m\n",
      "\u001b[34mEpoch: 5: Loss: 0.051624756078330836\u001b[0m\n",
      "\u001b[34mEpoch: 5: Loss: 0.05929131045633433\u001b[0m\n"
     ]
    },
    {
     "name": "stdout",
     "output_type": "stream",
     "text": [
      "\u001b[34mEpoch: 5: Loss: 0.06798252463340759\u001b[0m\n",
      "\u001b[34mEpoch: 5: Loss: 0.0759732364391794\u001b[0m\n",
      "\u001b[34mEpoch: 5: Loss: 0.08437195359444132\u001b[0m\n",
      "\u001b[34mEpoch: 5: Loss: 0.09233213748250689\u001b[0m\n",
      "\u001b[34mEpoch: 5: Loss: 0.10049821649278913\u001b[0m\n",
      "\u001b[34mEpoch: 5: Loss: 0.10824306887023304\u001b[0m\n",
      "\u001b[34mEpoch: 5: Loss: 0.11667537689208984\u001b[0m\n",
      "\u001b[34mEpoch: 5: Loss: 0.12430868951641784\u001b[0m\n",
      "\u001b[34mEpoch: 5: Loss: 0.13387341706120237\u001b[0m\n",
      "\u001b[34mEpoch: 5: Loss: 0.1415577713324099\u001b[0m\n",
      "\u001b[34mEpoch: 5: Loss: 0.14907560239032824\u001b[0m\n",
      "\u001b[34mEpoch: 5: Loss: 0.15659821520046313\u001b[0m\n",
      "\u001b[34mEpoch: 5: Loss: 0.16485886123715615\u001b[0m\n",
      "\u001b[34mEpoch: 5: Loss: 0.1726501109648724\u001b[0m\n",
      "\u001b[34mEpoch: 5: Loss: 0.18087295427614328\u001b[0m\n",
      "\u001b[34mEpoch: 5: Loss: 0.18865848439080374\u001b[0m\n",
      "\u001b[34mEpoch: 5: Loss: 0.19651340525977465\u001b[0m\n",
      "\u001b[34mEpoch: 5: Loss: 0.20402750676991988\u001b[0m\n",
      "\u001b[34mEpoch: 5: Loss: 0.21098531387290176\u001b[0m\n",
      "\u001b[34mEpoch: 5: Loss: 0.2193545060498374\u001b[0m\n",
      "\u001b[34mEpoch: 5: Loss: 0.22765688932671838\u001b[0m\n",
      "\u001b[34mEpoch: 5: Loss: 0.235516828541853\u001b[0m\n",
      "\u001b[34mEpoch: 5: Loss: 0.24409064954640913\u001b[0m\n",
      "\u001b[34mEpoch: 5: Loss: 0.25318498149210095\u001b[0m\n",
      "\u001b[34mEpoch: 5: Loss: 0.26079984830350295\u001b[0m\n",
      "\u001b[34mEpoch: 5: Loss: 0.2693604382933403\u001b[0m\n",
      "\u001b[34mEpoch: 5: Loss: 0.2777593591991736\u001b[0m\n",
      "\u001b[34mEpoch: 5: Loss: 0.28516241786431296\u001b[0m\n",
      "\u001b[34mEpoch: 5: Loss: 0.29336212119277644\u001b[0m\n",
      "\u001b[34mEpoch: 5: Loss: 0.3015101618912755\u001b[0m\n",
      "\u001b[34mEpoch: 5: Loss: 0.309507960567669\u001b[0m\n",
      "\u001b[34mEpoch: 5: Loss: 0.31779376645477453\u001b[0m\n",
      "\u001b[34mEpoch: 5: Loss: 0.32561840269030357\u001b[0m\n",
      "\u001b[34mEpoch: 5: Loss: 0.3344219618914079\u001b[0m\n",
      "\u001b[34mEpoch: 5: Loss: 0.34255549372458943\u001b[0m\n",
      "\u001b[34mEpoch: 5: Loss: 0.3506400323643976\u001b[0m\n",
      "\u001b[34mEpoch: 5: Loss: 0.3578060050399936\u001b[0m\n",
      "\u001b[34mEpoch: 5: Loss: 0.36520538524705537\u001b[0m\n",
      "\u001b[34mEpoch: 5: Loss: 0.37339757413280256\u001b[0m\n",
      "\u001b[34mEpoch: 5: Loss: 0.3809856249361622\u001b[0m\n",
      "\u001b[34mEpoch: 5: Loss: 0.38794875753169156\u001b[0m\n",
      "\u001b[34mEpoch: 5: Loss: 0.3949985729188335\u001b[0m\n",
      "\u001b[34mEpoch: 6: Loss: 0.00755122608068038\u001b[0m\n",
      "\u001b[34mEpoch: 6: Loss: 0.014639338668511838\u001b[0m\n",
      "\u001b[34mEpoch: 6: Loss: 0.021507528363441934\u001b[0m\n",
      "\u001b[34mEpoch: 6: Loss: 0.02972032220996156\u001b[0m\n",
      "\u001b[34mEpoch: 6: Loss: 0.03743447454608217\u001b[0m\n",
      "\u001b[34mEpoch: 6: Loss: 0.04501735312598092\u001b[0m\n",
      "\u001b[34mEpoch: 6: Loss: 0.051870496905579856\u001b[0m\n",
      "\u001b[34mEpoch: 6: Loss: 0.05995319327529596\u001b[0m\n",
      "\u001b[34mEpoch: 6: Loss: 0.06707705831041141\u001b[0m\n",
      "\u001b[34mEpoch: 6: Loss: 0.07392735323127435\u001b[0m\n",
      "\u001b[34mEpoch: 6: Loss: 0.08116106658565755\u001b[0m\n",
      "\u001b[34mEpoch: 6: Loss: 0.08857399711803514\u001b[0m\n",
      "\u001b[34mEpoch: 6: Loss: 0.09502409246503091\u001b[0m\n",
      "\u001b[34mEpoch: 6: Loss: 0.10223054764222125\u001b[0m\n",
      "\u001b[34mEpoch: 6: Loss: 0.1091561998639788\u001b[0m\n",
      "\u001b[34mEpoch: 6: Loss: 0.11766659422796599\u001b[0m\n",
      "\u001b[34mEpoch: 6: Loss: 0.124264266417951\u001b[0m\n",
      "\u001b[34mEpoch: 6: Loss: 0.13125368222898368\u001b[0m\n",
      "\u001b[34mEpoch: 6: Loss: 0.13780557379430655\u001b[0m\n",
      "\u001b[34mEpoch: 6: Loss: 0.14543046756666533\u001b[0m\n",
      "\u001b[34mEpoch: 6: Loss: 0.15238454268903148\u001b[0m\n",
      "\u001b[34mEpoch: 6: Loss: 0.15961785097511447\u001b[0m\n",
      "\u001b[34mEpoch: 6: Loss: 0.16671334724037015\u001b[0m\n",
      "\u001b[34mEpoch: 6: Loss: 0.17403973486958718\u001b[0m\n",
      "\u001b[34mEpoch: 6: Loss: 0.18065519661319498\u001b[0m\n",
      "\u001b[34mEpoch: 6: Loss: 0.1867177498583891\u001b[0m\n",
      "\u001b[34mEpoch: 6: Loss: 0.19431340268680028\u001b[0m\n",
      "\u001b[34mEpoch: 6: Loss: 0.20126440269606455\u001b[0m\n",
      "\u001b[34mEpoch: 6: Loss: 0.20762785356871935\u001b[0m\n",
      "\u001b[34mEpoch: 6: Loss: 0.21505848546417392\u001b[0m\n",
      "\u001b[34mEpoch: 6: Loss: 0.22252511369938754\u001b[0m\n",
      "\u001b[34mEpoch: 6: Loss: 0.22917006271226065\u001b[0m\n",
      "\u001b[34mEpoch: 6: Loss: 0.23798284786088125\u001b[0m\n",
      "\u001b[34mEpoch: 6: Loss: 0.24513449656720065\u001b[0m\n",
      "\u001b[34mEpoch: 6: Loss: 0.25221608366285053\u001b[0m\n",
      "\u001b[34mEpoch: 6: Loss: 0.25970564204819346\u001b[0m\n",
      "\u001b[34mEpoch: 6: Loss: 0.2670417610479861\u001b[0m\n",
      "\u001b[34mEpoch: 6: Loss: 0.2742152463416664\u001b[0m\n",
      "\u001b[34mEpoch: 6: Loss: 0.2818707811589144\u001b[0m\n",
      "\u001b[34mEpoch: 6: Loss: 0.28890130836136485\u001b[0m\n",
      "\u001b[34mEpoch: 6: Loss: 0.29684845586212316\u001b[0m\n",
      "\u001b[34mEpoch: 6: Loss: 0.3046015853784522\u001b[0m\n",
      "\u001b[34mEpoch: 6: Loss: 0.31214792144541836\u001b[0m\n",
      "\u001b[34mEpoch: 6: Loss: 0.3187095157954158\u001b[0m\n",
      "\u001b[34mEpoch: 6: Loss: 0.3252491470502347\u001b[0m\n",
      "\u001b[34mEpoch: 6: Loss: 0.33245772670726387\u001b[0m\n",
      "\u001b[34mEpoch: 6: Loss: 0.33936388760196917\u001b[0m\n",
      "\u001b[34mEpoch: 6: Loss: 0.3455962544801284\u001b[0m\n",
      "\u001b[34mEpoch: 6: Loss: 0.35219006878989084\u001b[0m\n",
      "\u001b[34mEpoch: 7: Loss: 0.00675591948081036\u001b[0m\n",
      "\u001b[34mEpoch: 7: Loss: 0.013072691401656794\u001b[0m\n",
      "\u001b[34mEpoch: 7: Loss: 0.019221061346482257\u001b[0m\n",
      "\u001b[34mEpoch: 7: Loss: 0.026826566579390546\u001b[0m\n",
      "\u001b[34mEpoch: 7: Loss: 0.03386579605997825\u001b[0m\n",
      "\u001b[34mEpoch: 7: Loss: 0.04073073790997875\u001b[0m\n",
      "\u001b[34mEpoch: 7: Loss: 0.04726571939429458\u001b[0m\n",
      "\u001b[34mEpoch: 7: Loss: 0.05453517181532724\u001b[0m\n",
      "\u001b[34mEpoch: 7: Loss: 0.06074507139167007\u001b[0m\n",
      "\u001b[34mEpoch: 7: Loss: 0.06721021022115435\u001b[0m\n",
      "\u001b[34mEpoch: 7: Loss: 0.07369893241901787\u001b[0m\n",
      "\u001b[34mEpoch: 7: Loss: 0.08056088187256638\u001b[0m\n",
      "\u001b[34mEpoch: 7: Loss: 0.08655339418625345\u001b[0m\n",
      "\u001b[34mEpoch: 7: Loss: 0.09340235347650488\u001b[0m\n",
      "\u001b[34mEpoch: 7: Loss: 0.10009249558254164\u001b[0m\n",
      "\u001b[34mEpoch: 7: Loss: 0.1080777176788875\u001b[0m\n",
      "\u001b[34mEpoch: 7: Loss: 0.11436063659434416\u001b[0m\n",
      "\u001b[34mEpoch: 7: Loss: 0.12066446031842913\u001b[0m\n",
      "\u001b[34mEpoch: 7: Loss: 0.1268845528972392\u001b[0m\n",
      "\u001b[34mEpoch: 7: Loss: 0.1340129539674642\u001b[0m\n",
      "\u001b[34mEpoch: 7: Loss: 0.14027706518465158\u001b[0m\n",
      "\u001b[34mEpoch: 7: Loss: 0.14722127877936073\u001b[0m\n",
      "\u001b[34mEpoch: 7: Loss: 0.1539659116949354\u001b[0m\n",
      "\u001b[34mEpoch: 7: Loss: 0.16039080340035108\u001b[0m\n",
      "\u001b[34mEpoch: 7: Loss: 0.16671250973429\u001b[0m\n",
      "\u001b[34mEpoch: 7: Loss: 0.172159487495617\u001b[0m\n",
      "\u001b[34mEpoch: 7: Loss: 0.17840788254932483\u001b[0m\n",
      "\u001b[34mEpoch: 7: Loss: 0.18522691483400305\u001b[0m\n",
      "\u001b[34mEpoch: 7: Loss: 0.19100915108408248\u001b[0m\n",
      "\u001b[34mEpoch: 7: Loss: 0.1975971807022484\u001b[0m\n",
      "\u001b[34mEpoch: 7: Loss: 0.20479916492286993\u001b[0m\n",
      "\u001b[34mEpoch: 7: Loss: 0.2108657956123352\u001b[0m\n",
      "\u001b[34mEpoch: 7: Loss: 0.21877121134680144\u001b[0m\n",
      "\u001b[34mEpoch: 7: Loss: 0.22575909446696846\u001b[0m\n",
      "\u001b[34mEpoch: 7: Loss: 0.23256846836635045\u001b[0m\n",
      "\u001b[34mEpoch: 7: Loss: 0.23965790624521216\u001b[0m\n",
      "\u001b[34mEpoch: 7: Loss: 0.24634762564483953\u001b[0m\n",
      "\u001b[34mEpoch: 7: Loss: 0.253098869810299\u001b[0m\n",
      "\u001b[34mEpoch: 7: Loss: 0.2598815256235551\u001b[0m\n",
      "\u001b[34mEpoch: 7: Loss: 0.2662255192289547\u001b[0m\n",
      "\u001b[34mEpoch: 7: Loss: 0.27394219989679297\u001b[0m\n",
      "\u001b[34mEpoch: 7: Loss: 0.28113818655208667\u001b[0m\n",
      "\u001b[34mEpoch: 7: Loss: 0.2882496702427767\u001b[0m\n",
      "\u001b[34mEpoch: 7: Loss: 0.29470529118362737\u001b[0m\n",
      "\u001b[34mEpoch: 7: Loss: 0.3010970743335023\u001b[0m\n",
      "\u001b[34mEpoch: 7: Loss: 0.30794348765392693\u001b[0m\n",
      "\u001b[34mEpoch: 7: Loss: 0.3142855325523688\u001b[0m\n",
      "\u001b[34mEpoch: 7: Loss: 0.3201136351848135\u001b[0m\n",
      "\u001b[34mEpoch: 7: Loss: 0.32624582550963577\u001b[0m\n",
      "\u001b[34mEpoch: 8: Loss: 0.006552467540818818\u001b[0m\n",
      "\u001b[34mEpoch: 8: Loss: 0.012433773400832196\u001b[0m\n",
      "\u001b[34mEpoch: 8: Loss: 0.018324590459161877\u001b[0m\n",
      "\u001b[34mEpoch: 8: Loss: 0.02557494202438666\u001b[0m\n",
      "\u001b[34mEpoch: 8: Loss: 0.03202028481327757\u001b[0m\n",
      "\u001b[34mEpoch: 8: Loss: 0.03839305651431181\u001b[0m\n",
      "\u001b[34mEpoch: 8: Loss: 0.04419246133492918\u001b[0m\n",
      "\u001b[34mEpoch: 8: Loss: 0.051395573786326816\u001b[0m\n",
      "\u001b[34mEpoch: 8: Loss: 0.05730330883240213\u001b[0m\n",
      "\u001b[34mEpoch: 8: Loss: 0.06332593365591399\u001b[0m\n",
      "\u001b[34mEpoch: 8: Loss: 0.06954201508541497\u001b[0m\n",
      "\u001b[34mEpoch: 8: Loss: 0.0758582773257275\u001b[0m\n",
      "\u001b[34mEpoch: 8: Loss: 0.08128684455034685\u001b[0m\n",
      "\u001b[34mEpoch: 8: Loss: 0.08737461846701954\u001b[0m\n",
      "\u001b[34mEpoch: 8: Loss: 0.09336222434530453\u001b[0m\n",
      "\u001b[34mEpoch: 8: Loss: 0.10096944777333007\u001b[0m\n",
      "\u001b[34mEpoch: 8: Loss: 0.10706302341149777\u001b[0m\n",
      "\u001b[34mEpoch: 8: Loss: 0.11303957992670488\u001b[0m\n",
      "\u001b[34mEpoch: 8: Loss: 0.11913677076904142\u001b[0m\n",
      "\u001b[34mEpoch: 8: Loss: 0.1261157089350175\u001b[0m\n",
      "\u001b[34mEpoch: 8: Loss: 0.13194111597781277\u001b[0m\n",
      "\u001b[34mEpoch: 8: Loss: 0.13831604439385084\u001b[0m\n",
      "\u001b[34mEpoch: 8: Loss: 0.14494577658419705\u001b[0m\n",
      "\u001b[34mEpoch: 8: Loss: 0.15121831091082827\u001b[0m\n",
      "\u001b[34mEpoch: 8: Loss: 0.15660545959764596\u001b[0m\n",
      "\u001b[34mEpoch: 8: Loss: 0.16201295110644126\u001b[0m\n",
      "\u001b[34mEpoch: 8: Loss: 0.16799275425015664\u001b[0m\n",
      "\u001b[34mEpoch: 8: Loss: 0.17400442337503239\u001b[0m\n",
      "\u001b[34mEpoch: 8: Loss: 0.17950440122156727\u001b[0m\n",
      "\u001b[34mEpoch: 8: Loss: 0.18558096520754755\u001b[0m\n",
      "\u001b[34mEpoch: 8: Loss: 0.19260035728921696\u001b[0m\n",
      "\u001b[34mEpoch: 8: Loss: 0.19884483303342546\u001b[0m\n",
      "\u001b[34mEpoch: 8: Loss: 0.20548318113599504\u001b[0m\n",
      "\u001b[34mEpoch: 8: Loss: 0.21196082356024762\u001b[0m\n",
      "\u001b[34mEpoch: 8: Loss: 0.2178506431530933\u001b[0m\n",
      "\u001b[34mEpoch: 8: Loss: 0.22506448383233985\u001b[0m\n",
      "\u001b[34mEpoch: 8: Loss: 0.2315435105440568\u001b[0m\n",
      "\u001b[34mEpoch: 8: Loss: 0.2379114141269606\u001b[0m\n",
      "\u001b[34mEpoch: 8: Loss: 0.2446151953570697\u001b[0m\n",
      "\u001b[34mEpoch: 8: Loss: 0.25067414434588686\u001b[0m\n",
      "\u001b[34mEpoch: 8: Loss: 0.25789747007039127\u001b[0m\n",
      "\u001b[34mEpoch: 8: Loss: 0.26488410088480735\u001b[0m\n",
      "\u001b[34mEpoch: 8: Loss: 0.2714956110837508\u001b[0m\n",
      "\u001b[34mEpoch: 8: Loss: 0.27710732756828776\u001b[0m\n",
      "\u001b[34mEpoch: 8: Loss: 0.2830639524119241\u001b[0m\n",
      "\u001b[34mEpoch: 8: Loss: 0.29034281202725004\u001b[0m\n",
      "\u001b[34mEpoch: 8: Loss: 0.29648157771752803\u001b[0m\n",
      "\u001b[34mEpoch: 8: Loss: 0.30211703935448003\u001b[0m\n",
      "\u001b[34mEpoch: 8: Loss: 0.3080374647159966\u001b[0m\n"
     ]
    },
    {
     "name": "stdout",
     "output_type": "stream",
     "text": [
      "\u001b[34mEpoch: 9: Loss: 0.006113911161617357\u001b[0m\n",
      "\u001b[34mEpoch: 9: Loss: 0.011949902894545575\u001b[0m\n",
      "\u001b[34mEpoch: 9: Loss: 0.017284558135635997\u001b[0m\n",
      "\u001b[34mEpoch: 9: Loss: 0.024083893518058622\u001b[0m\n",
      "\u001b[34mEpoch: 9: Loss: 0.030405546937670027\u001b[0m\n",
      "\u001b[34mEpoch: 9: Loss: 0.03662281255332791\u001b[0m\n",
      "\u001b[34mEpoch: 9: Loss: 0.042330420747095227\u001b[0m\n",
      "\u001b[34mEpoch: 9: Loss: 0.04912910838516391\u001b[0m\n",
      "\u001b[34mEpoch: 9: Loss: 0.05533422560107951\u001b[0m\n",
      "\u001b[34mEpoch: 9: Loss: 0.06160855354094992\u001b[0m\n",
      "\u001b[34mEpoch: 9: Loss: 0.06756985248351584\u001b[0m\n",
      "\u001b[34mEpoch: 9: Loss: 0.0736442396835405\u001b[0m\n",
      "\u001b[34mEpoch: 9: Loss: 0.07906039150393739\u001b[0m\n",
      "\u001b[34mEpoch: 9: Loss: 0.0853353069753063\u001b[0m\n",
      "\u001b[34mEpoch: 9: Loss: 0.090988176209586\u001b[0m\n",
      "\u001b[34mEpoch: 9: Loss: 0.09838067268838688\u001b[0m\n",
      "\u001b[34mEpoch: 9: Loss: 0.10515176520055654\u001b[0m\n",
      "\u001b[34mEpoch: 9: Loss: 0.1111435871951434\u001b[0m\n",
      "\u001b[34mEpoch: 9: Loss: 0.11679584213665553\u001b[0m\n",
      "\u001b[34mEpoch: 9: Loss: 0.1241664533712426\u001b[0m\n",
      "\u001b[34mEpoch: 9: Loss: 0.13024322232421565\u001b[0m\n",
      "\u001b[34mEpoch: 9: Loss: 0.13660716463108452\u001b[0m\n",
      "\u001b[34mEpoch: 9: Loss: 0.1429345224584852\u001b[0m\n",
      "\u001b[34mEpoch: 9: Loss: 0.1494859633397083\u001b[0m\n",
      "\u001b[34mEpoch: 9: Loss: 0.15477819041329988\u001b[0m\n",
      "\u001b[34mEpoch: 9: Loss: 0.15969849879644354\u001b[0m\n",
      "\u001b[34mEpoch: 9: Loss: 0.16525221387950742\u001b[0m\n",
      "\u001b[34mEpoch: 9: Loss: 0.1706296634309146\u001b[0m\n",
      "\u001b[34mEpoch: 9: Loss: 0.17545556991684194\u001b[0m\n",
      "\u001b[34mEpoch: 9: Loss: 0.1810028051235238\u001b[0m\n",
      "\u001b[34mEpoch: 9: Loss: 0.18718569953830874\u001b[0m\n",
      "\u001b[34mEpoch: 9: Loss: 0.1926896958326807\u001b[0m\n",
      "\u001b[34mEpoch: 9: Loss: 0.19928711135776675\u001b[0m\n",
      "\u001b[34mEpoch: 9: Loss: 0.20587004112954044\u001b[0m\n",
      "\u001b[34mEpoch: 9: Loss: 0.2118252190400143\u001b[0m\n",
      "\u001b[34mEpoch: 9: Loss: 0.21808798246237696\u001b[0m\n",
      "\u001b[34mEpoch: 9: Loss: 0.223854627840373\u001b[0m\n",
      "\u001b[34mEpoch: 9: Loss: 0.22973300577426442\u001b[0m\n",
      "\u001b[34mEpoch: 9: Loss: 0.23593528812028924\u001b[0m\n",
      "\u001b[34mEpoch: 9: Loss: 0.24124022862132716\u001b[0m\n",
      "\u001b[34mEpoch: 9: Loss: 0.24783209726518515\u001b[0m\n",
      "\u001b[34mEpoch: 9: Loss: 0.2544022600869743\u001b[0m\n",
      "\u001b[34mEpoch: 9: Loss: 0.26069516764611617\u001b[0m\n",
      "\u001b[34mEpoch: 9: Loss: 0.26615866015152057\u001b[0m\n",
      "\u001b[34mEpoch: 9: Loss: 0.2718790705714907\u001b[0m\n",
      "\u001b[34mEpoch: 9: Loss: 0.27776287313626735\u001b[0m\n",
      "\u001b[34mEpoch: 9: Loss: 0.2834263179375201\u001b[0m\n",
      "\u001b[34mEpoch: 9: Loss: 0.2887694376463793\u001b[0m\n",
      "\u001b[34mEpoch: 9: Loss: 0.29412009126069594\u001b[0m\n",
      "\u001b[34mEpoch: 10: Loss: 0.005680283721612424\u001b[0m\n",
      "\u001b[34mEpoch: 10: Loss: 0.011016814684381291\u001b[0m\n",
      "\u001b[34mEpoch: 10: Loss: 0.015817534254521738\u001b[0m\n",
      "\u001b[34mEpoch: 10: Loss: 0.02216691599816692\u001b[0m\n",
      "\u001b[34mEpoch: 10: Loss: 0.02784349693327534\u001b[0m\n",
      "\u001b[34mEpoch: 10: Loss: 0.03345501757397944\u001b[0m\n",
      "\u001b[34mEpoch: 10: Loss: 0.038840544771175\u001b[0m\n",
      "\u001b[34mEpoch: 10: Loss: 0.045943472154286444\u001b[0m\n",
      "\u001b[34mEpoch: 10: Loss: 0.051239496895245144\u001b[0m\n",
      "\u001b[34mEpoch: 10: Loss: 0.05707827666584326\u001b[0m\n",
      "\u001b[34mEpoch: 10: Loss: 0.06311726783003126\u001b[0m\n",
      "\u001b[34mEpoch: 10: Loss: 0.06904204980451234\u001b[0m\n",
      "\u001b[34mEpoch: 10: Loss: 0.07401960784075212\u001b[0m\n",
      "\u001b[34mEpoch: 10: Loss: 0.07943309387382196\u001b[0m\n",
      "\u001b[34mEpoch: 10: Loss: 0.08586158801098259\u001b[0m\n",
      "\u001b[34mEpoch: 10: Loss: 0.09333565040510527\u001b[0m\n",
      "\u001b[34mEpoch: 10: Loss: 0.10209019025977777\u001b[0m\n",
      "\u001b[34mEpoch: 10: Loss: 0.1092711760073292\u001b[0m\n",
      "\u001b[34mEpoch: 10: Loss: 0.11574163242262236\u001b[0m\n",
      "\u001b[34mEpoch: 10: Loss: 0.12293123712345046\u001b[0m\n",
      "\u001b[34mEpoch: 10: Loss: 0.12967290075457827\u001b[0m\n",
      "\u001b[34mEpoch: 10: Loss: 0.13716005305854642\u001b[0m\n",
      "\u001b[34mEpoch: 10: Loss: 0.14518165466736774\u001b[0m\n",
      "\u001b[34mEpoch: 10: Loss: 0.15271159519954602\u001b[0m\n",
      "\u001b[34mEpoch: 10: Loss: 0.15905418323010814\u001b[0m\n",
      "\u001b[34mEpoch: 10: Loss: 0.1651105844244665\u001b[0m\n",
      "\u001b[34mEpoch: 10: Loss: 0.1717503861505158\u001b[0m\n",
      "\u001b[34mEpoch: 10: Loss: 0.17889164114484982\u001b[0m\n",
      "\u001b[34mEpoch: 10: Loss: 0.18449308434311223\u001b[0m\n",
      "\u001b[34mEpoch: 10: Loss: 0.18995982286881427\u001b[0m\n",
      "\u001b[34mEpoch: 10: Loss: 0.1969430975768031\u001b[0m\n",
      "\u001b[34mEpoch: 10: Loss: 0.20258255394137636\u001b[0m\n",
      "\u001b[34mEpoch: 10: Loss: 0.20875129894334443\u001b[0m\n",
      "\u001b[34mEpoch: 10: Loss: 0.21508279077860773\u001b[0m\n",
      "\u001b[34mEpoch: 10: Loss: 0.22098507017505412\u001b[0m\n",
      "\u001b[34mEpoch: 10: Loss: 0.22744288675639093\u001b[0m\n",
      "\u001b[34mEpoch: 10: Loss: 0.23333780619562888\u001b[0m\n",
      "\u001b[34mEpoch: 10: Loss: 0.23921555888896084\u001b[0m\n",
      "\u001b[34mEpoch: 10: Loss: 0.2454776429400152\u001b[0m\n",
      "\u001b[34mEpoch: 10: Loss: 0.2508489301010054\u001b[0m\n",
      "\u001b[34mEpoch: 10: Loss: 0.2575905426424377\u001b[0m\n",
      "\u001b[34mEpoch: 10: Loss: 0.26490418460904336\u001b[0m\n",
      "\u001b[34mEpoch: 10: Loss: 0.27158526559265295\u001b[0m\n",
      "\u001b[34mEpoch: 10: Loss: 0.27675255281584604\u001b[0m\n",
      "\u001b[34mEpoch: 10: Loss: 0.2823329951081957\u001b[0m\n",
      "\u001b[34mEpoch: 10: Loss: 0.28827591635742966\u001b[0m\n",
      "\u001b[34mEpoch: 10: Loss: 0.29361071696086805\u001b[0m\n",
      "\u001b[34mEpoch: 10: Loss: 0.29869044009520085\u001b[0m\n",
      "\u001b[34mEpoch: 10: Loss: 0.30387676735313573\u001b[0m\n",
      "\u001b[34m2021-04-02 23:52:36,177 sagemaker-containers INFO     Reporting training SUCCESS\u001b[0m\n",
      "\n",
      "2021-04-02 23:52:45 Uploading - Uploading generated training model\n",
      "2021-04-02 23:52:45 Completed - Training job completed\n",
      "Training seconds: 281\n",
      "Billable seconds: 281\n"
     ]
    }
   ],
   "source": [
    "estimator.fit({'training': input_data})"
   ]
  },
  {
   "cell_type": "markdown",
   "metadata": {},
   "source": [
    "## Step 5: Testing the model\n",
    "\n",
    "As mentioned at the top of this notebook, we will be testing this model by first deploying it and then sending the testing data to the deployed endpoint. We will do this so that we can make sure that the deployed model is working correctly.\n",
    "\n",
    "## Step 6: Deploy the model for testing\n",
    "\n",
    "Now that we have trained our model, we would like to test it to see how it performs. Currently our model takes input of the form `review_length, review[500]` where `review[500]` is a sequence of `500` integers which describe the words present in the review, encoded using `word_dict`. Fortunately for us, SageMaker provides built-in inference code for models with simple inputs such as this.\n",
    "\n",
    "There is one thing that we need to provide, however, and that is a function which loads the saved model. This function must be called `model_fn()` and takes as its only parameter a path to the directory where the model artifacts are stored. This function must also be present in the python file which we specified as the entry point. In our case the model loading function has been provided and so no changes need to be made.\n",
    "\n",
    "**NOTE**: When the built-in inference code is run it must import the `model_fn()` method from the `train.py` file. This is why the training code is wrapped in a main guard ( ie, `if __name__ == '__main__':` )\n",
    "\n",
    "Since we don't need to change anything in the code that was uploaded during training, we can simply deploy the current model as-is.\n",
    "\n",
    "**NOTE:** When deploying a model you are asking SageMaker to launch an compute instance that will wait for data to be sent to it. As a result, this compute instance will continue to run until *you* shut it down. This is important to know since the cost of a deployed endpoint depends on how long it has been running for.\n",
    "\n",
    "In other words **If you are no longer using a deployed endpoint, shut it down!**\n",
    "\n",
    "**TODO:** Deploy the trained model."
   ]
  },
  {
   "cell_type": "code",
   "execution_count": 55,
   "metadata": {},
   "outputs": [
    {
     "name": "stderr",
     "output_type": "stream",
     "text": [
      "Parameter image will be renamed to image_uri in SageMaker Python SDK v2.\n",
      "'create_image_uri' will be deprecated in favor of 'ImageURIProvider' class in SageMaker Python SDK v2.\n"
     ]
    },
    {
     "name": "stdout",
     "output_type": "stream",
     "text": [
      "---------------!"
     ]
    }
   ],
   "source": [
    "# TODO: Deploy the trained model\n",
    "   predictor = estimator.deploy(initial_instance_count=1, instance_type='ml.m4.xlarge')"
   ]
  },
  {
   "cell_type": "markdown",
   "metadata": {},
   "source": [
    "## Step 7 - Use the model for testing\n",
    "\n",
    "Once deployed, we can read in the test data and send it off to our deployed model to get some results. Once we collect all of the results we can determine how accurate our model is."
   ]
  },
  {
   "cell_type": "code",
   "execution_count": 56,
   "metadata": {},
   "outputs": [],
   "source": [
    "test_X = pd.concat([pd.DataFrame(test_X_len), pd.DataFrame(test_X)], axis=1)"
   ]
  },
  {
   "cell_type": "code",
   "execution_count": 57,
   "metadata": {},
   "outputs": [],
   "source": [
    "# We split the data into chunks and send each chunk seperately, accumulating the results.\n",
    "\n",
    "def predict(data, rows=512):\n",
    "    split_array = np.array_split(data, int(data.shape[0] / float(rows) + 1))\n",
    "    predictions = np.array([])\n",
    "    for array in split_array:\n",
    "        predictions = np.append(predictions, predictor.predict(array))\n",
    "    \n",
    "    return predictions"
   ]
  },
  {
   "cell_type": "code",
   "execution_count": 58,
   "metadata": {},
   "outputs": [],
   "source": [
    "predictions = predict(test_X.values)\n",
    "predictions = [round(num) for num in predictions]"
   ]
  },
  {
   "cell_type": "code",
   "execution_count": 59,
   "metadata": {},
   "outputs": [
    {
     "data": {
      "text/plain": [
       "0.84612"
      ]
     },
     "execution_count": 59,
     "metadata": {},
     "output_type": "execute_result"
    }
   ],
   "source": [
    "from sklearn.metrics import accuracy_score\n",
    "accuracy_score(test_y, predictions)"
   ]
  },
  {
   "cell_type": "markdown",
   "metadata": {},
   "source": [
    "**Question:** How does this model compare to the XGBoost model you created earlier? Why might these two models perform differently on this dataset? Which do *you* think is better for sentiment analysis?"
   ]
  },
  {
   "cell_type": "markdown",
   "metadata": {},
   "source": [
    "**Answer:** Collecting and saving the data looks almost the same but the trained model is fairly different."
   ]
  },
  {
   "cell_type": "markdown",
   "metadata": {},
   "source": [
    "### (TODO) More testing\n",
    "\n",
    "We now have a trained model which has been deployed and which we can send processed reviews to and which returns the predicted sentiment. However, ultimately we would like to be able to send our model an unprocessed review. That is, we would like to send the review itself as a string. For example, suppose we wish to send the following review to our model."
   ]
  },
  {
   "cell_type": "code",
   "execution_count": 60,
   "metadata": {},
   "outputs": [],
   "source": [
    "test_review = 'The simplest pleasures in life are the best, and this film is one of them. Combining a rather basic storyline of love and adventure this movie transcends the usual weekend fair with wit and unmitigated charm.'"
   ]
  },
  {
   "cell_type": "markdown",
   "metadata": {},
   "source": [
    "The question we now need to answer is, how do we send this review to our model?\n",
    "\n",
    "Recall in the first section of this notebook we did a bunch of data processing to the IMDb dataset. In particular, we did two specific things to the provided reviews.\n",
    " - Removed any html tags and stemmed the input\n",
    " - Encoded the review as a sequence of integers using `word_dict`\n",
    " \n",
    "In order process the review we will need to repeat these two steps.\n",
    "\n",
    "**TODO**: Using the `review_to_words` and `convert_and_pad` methods from section one, convert `test_review` into a numpy array `test_data` suitable to send to our model. Remember that our model expects input of the form `review_length, review[500]`."
   ]
  },
  {
   "cell_type": "code",
   "execution_count": 61,
   "metadata": {},
   "outputs": [],
   "source": [
    "# TODO: Convert test_review into a form usable by the model and save the results in test_data\n",
    "test_data = convert_and_pad_data(word_dict, [review_to_words(test_review)])\n",
    "test_data = pd.concat([pd.DataFrame(test_data[1]), pd.DataFrame(test_data[0])], axis=1)"
   ]
  },
  {
   "cell_type": "markdown",
   "metadata": {},
   "source": [
    "Now that we have processed the review, we can send the resulting array to our model to predict the sentiment of the review."
   ]
  },
  {
   "cell_type": "code",
   "execution_count": 62,
   "metadata": {},
   "outputs": [
    {
     "data": {
      "text/plain": [
       "array(0.8839541, dtype=float32)"
      ]
     },
     "execution_count": 62,
     "metadata": {},
     "output_type": "execute_result"
    }
   ],
   "source": [
    "predictor.predict(test_data)"
   ]
  },
  {
   "cell_type": "markdown",
   "metadata": {},
   "source": [
    "Since the return value of our model is close to `1`, we can be certain that the review we submitted is positive."
   ]
  },
  {
   "cell_type": "markdown",
   "metadata": {},
   "source": [
    "### Delete the endpoint\n",
    "\n",
    "Of course, just like in the XGBoost notebook, once we've deployed an endpoint it continues to run until we tell it to shut down. Since we are done using our endpoint for now, we can delete it."
   ]
  },
  {
   "cell_type": "code",
   "execution_count": 63,
   "metadata": {},
   "outputs": [
    {
     "name": "stderr",
     "output_type": "stream",
     "text": [
      "estimator.delete_endpoint() will be deprecated in SageMaker Python SDK v2. Please use the delete_endpoint() function on your predictor instead.\n"
     ]
    }
   ],
   "source": [
    "estimator.delete_endpoint()"
   ]
  },
  {
   "cell_type": "markdown",
   "metadata": {},
   "source": [
    "## Step 6 (again) - Deploy the model for the web app\n",
    "\n",
    "Now that we know that our model is working, it's time to create some custom inference code so that we can send the model a review which has not been processed and have it determine the sentiment of the review.\n",
    "\n",
    "As we saw above, by default the estimator which we created, when deployed, will use the entry script and directory which we provided when creating the model. However, since we now wish to accept a string as input and our model expects a processed review, we need to write some custom inference code.\n",
    "\n",
    "We will store the code that we write in the `serve` directory. Provided in this directory is the `model.py` file that we used to construct our model, a `utils.py` file which contains the `review_to_words` and `convert_and_pad` pre-processing functions which we used during the initial data processing, and `predict.py`, the file which will contain our custom inference code. Note also that `requirements.txt` is present which will tell SageMaker what Python libraries are required by our custom inference code.\n",
    "\n",
    "When deploying a PyTorch model in SageMaker, you are expected to provide four functions which the SageMaker inference container will use.\n",
    " - `model_fn`: This function is the same function that we used in the training script and it tells SageMaker how to load our model.\n",
    " - `input_fn`: This function receives the raw serialized input that has been sent to the model's endpoint and its job is to de-serialize and make the input available for the inference code.\n",
    " - `output_fn`: This function takes the output of the inference code and its job is to serialize this output and return it to the caller of the model's endpoint.\n",
    " - `predict_fn`: The heart of the inference script, this is where the actual prediction is done and is the function which you will need to complete.\n",
    "\n",
    "For the simple website that we are constructing during this project, the `input_fn` and `output_fn` methods are relatively straightforward. We only require being able to accept a string as input and we expect to return a single value as output. You might imagine though that in a more complex application the input or output may be image data or some other binary data which would require some effort to serialize.\n",
    "\n",
    "### (TODO) Writing inference code\n",
    "\n",
    "Before writing our custom inference code, we will begin by taking a look at the code which has been provided."
   ]
  },
  {
   "cell_type": "code",
   "execution_count": 64,
   "metadata": {},
   "outputs": [
    {
     "name": "stdout",
     "output_type": "stream",
     "text": [
      "\u001b[34mimport\u001b[39;49;00m \u001b[04m\u001b[36margparse\u001b[39;49;00m\n",
      "\u001b[34mimport\u001b[39;49;00m \u001b[04m\u001b[36mjson\u001b[39;49;00m\n",
      "\u001b[34mimport\u001b[39;49;00m \u001b[04m\u001b[36mos\u001b[39;49;00m\n",
      "\u001b[34mimport\u001b[39;49;00m \u001b[04m\u001b[36mpickle\u001b[39;49;00m\n",
      "\u001b[34mimport\u001b[39;49;00m \u001b[04m\u001b[36msys\u001b[39;49;00m\n",
      "\u001b[34mimport\u001b[39;49;00m \u001b[04m\u001b[36msagemaker_containers\u001b[39;49;00m\n",
      "\u001b[34mimport\u001b[39;49;00m \u001b[04m\u001b[36mpandas\u001b[39;49;00m \u001b[34mas\u001b[39;49;00m \u001b[04m\u001b[36mpd\u001b[39;49;00m\n",
      "\u001b[34mimport\u001b[39;49;00m \u001b[04m\u001b[36mnumpy\u001b[39;49;00m \u001b[34mas\u001b[39;49;00m \u001b[04m\u001b[36mnp\u001b[39;49;00m\n",
      "\u001b[34mimport\u001b[39;49;00m \u001b[04m\u001b[36mtorch\u001b[39;49;00m\n",
      "\u001b[34mimport\u001b[39;49;00m \u001b[04m\u001b[36mtorch\u001b[39;49;00m\u001b[04m\u001b[36m.\u001b[39;49;00m\u001b[04m\u001b[36mnn\u001b[39;49;00m \u001b[34mas\u001b[39;49;00m \u001b[04m\u001b[36mnn\u001b[39;49;00m\n",
      "\u001b[34mimport\u001b[39;49;00m \u001b[04m\u001b[36mtorch\u001b[39;49;00m\u001b[04m\u001b[36m.\u001b[39;49;00m\u001b[04m\u001b[36moptim\u001b[39;49;00m \u001b[34mas\u001b[39;49;00m \u001b[04m\u001b[36moptim\u001b[39;49;00m\n",
      "\u001b[34mimport\u001b[39;49;00m \u001b[04m\u001b[36mtorch\u001b[39;49;00m\u001b[04m\u001b[36m.\u001b[39;49;00m\u001b[04m\u001b[36mutils\u001b[39;49;00m\u001b[04m\u001b[36m.\u001b[39;49;00m\u001b[04m\u001b[36mdata\u001b[39;49;00m\n",
      "\n",
      "\u001b[34mfrom\u001b[39;49;00m \u001b[04m\u001b[36mmodel\u001b[39;49;00m \u001b[34mimport\u001b[39;49;00m LSTMClassifier\n",
      "\n",
      "\u001b[34mfrom\u001b[39;49;00m \u001b[04m\u001b[36mutils\u001b[39;49;00m \u001b[34mimport\u001b[39;49;00m review_to_words, convert_and_pad\n",
      "\n",
      "\u001b[34mdef\u001b[39;49;00m \u001b[32mmodel_fn\u001b[39;49;00m(model_dir):\n",
      "    \u001b[33m\"\"\"Load the PyTorch model from the `model_dir` directory.\"\"\"\u001b[39;49;00m\n",
      "    \u001b[36mprint\u001b[39;49;00m(\u001b[33m\"\u001b[39;49;00m\u001b[33mLoading model.\u001b[39;49;00m\u001b[33m\"\u001b[39;49;00m)\n",
      "\n",
      "    \u001b[37m# First, load the parameters used to create the model.\u001b[39;49;00m\n",
      "    model_info = {}\n",
      "    model_info_path = os.path.join(model_dir, \u001b[33m'\u001b[39;49;00m\u001b[33mmodel_info.pth\u001b[39;49;00m\u001b[33m'\u001b[39;49;00m)\n",
      "    \u001b[34mwith\u001b[39;49;00m \u001b[36mopen\u001b[39;49;00m(model_info_path, \u001b[33m'\u001b[39;49;00m\u001b[33mrb\u001b[39;49;00m\u001b[33m'\u001b[39;49;00m) \u001b[34mas\u001b[39;49;00m f:\n",
      "        model_info = torch.load(f)\n",
      "\n",
      "    \u001b[36mprint\u001b[39;49;00m(\u001b[33m\"\u001b[39;49;00m\u001b[33mmodel_info: \u001b[39;49;00m\u001b[33m{}\u001b[39;49;00m\u001b[33m\"\u001b[39;49;00m.format(model_info))\n",
      "\n",
      "    \u001b[37m# Determine the device and construct the model.\u001b[39;49;00m\n",
      "    device = torch.device(\u001b[33m\"\u001b[39;49;00m\u001b[33mcuda\u001b[39;49;00m\u001b[33m\"\u001b[39;49;00m \u001b[34mif\u001b[39;49;00m torch.cuda.is_available() \u001b[34melse\u001b[39;49;00m \u001b[33m\"\u001b[39;49;00m\u001b[33mcpu\u001b[39;49;00m\u001b[33m\"\u001b[39;49;00m)\n",
      "    model = LSTMClassifier(model_info[\u001b[33m'\u001b[39;49;00m\u001b[33membedding_dim\u001b[39;49;00m\u001b[33m'\u001b[39;49;00m], model_info[\u001b[33m'\u001b[39;49;00m\u001b[33mhidden_dim\u001b[39;49;00m\u001b[33m'\u001b[39;49;00m], model_info[\u001b[33m'\u001b[39;49;00m\u001b[33mvocab_size\u001b[39;49;00m\u001b[33m'\u001b[39;49;00m])\n",
      "\n",
      "    \u001b[37m# Load the store model parameters.\u001b[39;49;00m\n",
      "    model_path = os.path.join(model_dir, \u001b[33m'\u001b[39;49;00m\u001b[33mmodel.pth\u001b[39;49;00m\u001b[33m'\u001b[39;49;00m)\n",
      "    \u001b[34mwith\u001b[39;49;00m \u001b[36mopen\u001b[39;49;00m(model_path, \u001b[33m'\u001b[39;49;00m\u001b[33mrb\u001b[39;49;00m\u001b[33m'\u001b[39;49;00m) \u001b[34mas\u001b[39;49;00m f:\n",
      "        model.load_state_dict(torch.load(f))\n",
      "\n",
      "    \u001b[37m# Load the saved word_dict.\u001b[39;49;00m\n",
      "    word_dict_path = os.path.join(model_dir, \u001b[33m'\u001b[39;49;00m\u001b[33mword_dict.pkl\u001b[39;49;00m\u001b[33m'\u001b[39;49;00m)\n",
      "    \u001b[34mwith\u001b[39;49;00m \u001b[36mopen\u001b[39;49;00m(word_dict_path, \u001b[33m'\u001b[39;49;00m\u001b[33mrb\u001b[39;49;00m\u001b[33m'\u001b[39;49;00m) \u001b[34mas\u001b[39;49;00m f:\n",
      "        model.word_dict = pickle.load(f)\n",
      "\n",
      "    model.to(device).eval()\n",
      "\n",
      "    \u001b[36mprint\u001b[39;49;00m(\u001b[33m\"\u001b[39;49;00m\u001b[33mDone loading model.\u001b[39;49;00m\u001b[33m\"\u001b[39;49;00m)\n",
      "    \u001b[34mreturn\u001b[39;49;00m model\n",
      "\n",
      "\u001b[34mdef\u001b[39;49;00m \u001b[32minput_fn\u001b[39;49;00m(serialized_input_data, content_type):\n",
      "    \u001b[36mprint\u001b[39;49;00m(\u001b[33m'\u001b[39;49;00m\u001b[33mDeserializing the input data.\u001b[39;49;00m\u001b[33m'\u001b[39;49;00m)\n",
      "    \u001b[34mif\u001b[39;49;00m content_type == \u001b[33m'\u001b[39;49;00m\u001b[33mtext/plain\u001b[39;49;00m\u001b[33m'\u001b[39;49;00m:\n",
      "        data = serialized_input_data.decode(\u001b[33m'\u001b[39;49;00m\u001b[33mutf-8\u001b[39;49;00m\u001b[33m'\u001b[39;49;00m)\n",
      "        \u001b[34mreturn\u001b[39;49;00m data\n",
      "    \u001b[34mraise\u001b[39;49;00m \u001b[36mException\u001b[39;49;00m(\u001b[33m'\u001b[39;49;00m\u001b[33mRequested unsupported ContentType in content_type: \u001b[39;49;00m\u001b[33m'\u001b[39;49;00m + content_type)\n",
      "\n",
      "\u001b[34mdef\u001b[39;49;00m \u001b[32moutput_fn\u001b[39;49;00m(prediction_output, accept):\n",
      "    \u001b[36mprint\u001b[39;49;00m(\u001b[33m'\u001b[39;49;00m\u001b[33mSerializing the generated output.\u001b[39;49;00m\u001b[33m'\u001b[39;49;00m)\n",
      "    \u001b[34mreturn\u001b[39;49;00m \u001b[36mstr\u001b[39;49;00m(prediction_output)\n",
      "\n",
      "\u001b[34mdef\u001b[39;49;00m \u001b[32mpredict_fn\u001b[39;49;00m(input_data, model):\n",
      "    \u001b[36mprint\u001b[39;49;00m(\u001b[33m'\u001b[39;49;00m\u001b[33mInferring sentiment of input data.\u001b[39;49;00m\u001b[33m'\u001b[39;49;00m)\n",
      "\n",
      "    device = torch.device(\u001b[33m\"\u001b[39;49;00m\u001b[33mcuda\u001b[39;49;00m\u001b[33m\"\u001b[39;49;00m \u001b[34mif\u001b[39;49;00m torch.cuda.is_available() \u001b[34melse\u001b[39;49;00m \u001b[33m\"\u001b[39;49;00m\u001b[33mcpu\u001b[39;49;00m\u001b[33m\"\u001b[39;49;00m)\n",
      "    \n",
      "    \u001b[34mif\u001b[39;49;00m model.word_dict \u001b[35mis\u001b[39;49;00m \u001b[34mNone\u001b[39;49;00m:\n",
      "        \u001b[34mraise\u001b[39;49;00m \u001b[36mException\u001b[39;49;00m(\u001b[33m'\u001b[39;49;00m\u001b[33mModel has not been loaded properly, no word_dict.\u001b[39;49;00m\u001b[33m'\u001b[39;49;00m)\n",
      "    \n",
      "\n",
      "    \u001b[37m# TODO: Process input_data so that it is ready to be sent to our model.\u001b[39;49;00m\n",
      "    \u001b[37m#       You should produce two variables:\u001b[39;49;00m\n",
      "    \u001b[37m#         data_X   - A sequence of length 500 which represents the converted review\u001b[39;49;00m\n",
      "    \u001b[37m#         data_len - The length of the review\u001b[39;49;00m\n",
      "\n",
      "    reviewer = review_to_words(input_data) \n",
      "    data_X, data_len = convert_and_pad(model.word_dict, reviewer)\n",
      "    \n",
      "    \u001b[37m# Using data_X and data_len we construct an appropriate input tensor. Remember\u001b[39;49;00m\n",
      "    \u001b[37m# that our model expects input data of the form 'len, review[500]'.\u001b[39;49;00m\n",
      "    data_pack = np.hstack((data_len, data_X))\n",
      "    data_pack = data_pack.reshape(\u001b[34m1\u001b[39;49;00m, -\u001b[34m1\u001b[39;49;00m)\n",
      "    \n",
      "    data = torch.from_numpy(data_pack)\n",
      "    data = data.to(device)\n",
      "\n",
      "    \u001b[37m# Make sure to put the model into evaluation mode\u001b[39;49;00m\n",
      "    model.eval()\n",
      "\n",
      "    \u001b[37m# TODO: Compute the result of applying the model to the input data. The variable `result` should\u001b[39;49;00m\n",
      "    \u001b[37m#       be a numpy array which contains a single integer which is either 1 or 0\u001b[39;49;00m\n",
      "\n",
      "    \u001b[34mwith\u001b[39;49;00m torch.no_grad():\n",
      "        output = model.forward(data)\n",
      "\n",
      "    result = np.round(output.numpy())\n",
      "\n",
      "    \u001b[34mreturn\u001b[39;49;00m result\n"
     ]
    }
   ],
   "source": [
    "!pygmentize serve/predict.py"
   ]
  },
  {
   "cell_type": "markdown",
   "metadata": {},
   "source": [
    "As mentioned earlier, the `model_fn` method is the same as the one provided in the training code and the `input_fn` and `output_fn` methods are very simple and your task will be to complete the `predict_fn` method. Make sure that you save the completed file as `predict.py` in the `serve` directory.\n",
    "\n",
    "**TODO**: Complete the `predict_fn()` method in the `serve/predict.py` file."
   ]
  },
  {
   "cell_type": "markdown",
   "metadata": {},
   "source": [
    "### Deploying the model\n",
    "\n",
    "Now that the custom inference code has been written, we will create and deploy our model. To begin with, we need to construct a new PyTorchModel object which points to the model artifacts created during training and also points to the inference code that we wish to use. Then we can call the deploy method to launch the deployment container.\n",
    "\n",
    "**NOTE**: The default behaviour for a deployed PyTorch model is to assume that any input passed to the predictor is a `numpy` array. In our case we want to send a string so we need to construct a simple wrapper around the `RealTimePredictor` class to accomodate simple strings. In a more complicated situation you may want to provide a serialization object, for example if you wanted to sent image data."
   ]
  },
  {
   "cell_type": "code",
   "execution_count": 65,
   "metadata": {},
   "outputs": [
    {
     "name": "stderr",
     "output_type": "stream",
     "text": [
      "Parameter image will be renamed to image_uri in SageMaker Python SDK v2.\n",
      "'create_image_uri' will be deprecated in favor of 'ImageURIProvider' class in SageMaker Python SDK v2.\n"
     ]
    },
    {
     "name": "stdout",
     "output_type": "stream",
     "text": [
      "-------------------!"
     ]
    }
   ],
   "source": [
    "from sagemaker.predictor import RealTimePredictor\n",
    "from sagemaker.pytorch import PyTorchModel\n",
    "\n",
    "class StringPredictor(RealTimePredictor):\n",
    "    def __init__(self, endpoint_name, sagemaker_session):\n",
    "        super(StringPredictor, self).__init__(endpoint_name, sagemaker_session, content_type='text/plain')\n",
    "\n",
    "model = PyTorchModel(model_data=estimator.model_data,\n",
    "                     role = role,\n",
    "                     framework_version='0.4.0',\n",
    "                     py_version='py3',\n",
    "                     entry_point='predict.py',\n",
    "                     source_dir='serve',\n",
    "                     predictor_cls=StringPredictor)\n",
    "predictor = model.deploy(initial_instance_count=1, instance_type='ml.m4.xlarge')"
   ]
  },
  {
   "cell_type": "markdown",
   "metadata": {},
   "source": [
    "### Testing the model\n",
    "\n",
    "Now that we have deployed our model with the custom inference code, we should test to see if everything is working. Here we test our model by loading the first `250` positive and negative reviews and send them to the endpoint, then collect the results. The reason for only sending some of the data is that the amount of time it takes for our model to process the input and then perform inference is quite long and so testing the entire data set would be prohibitive."
   ]
  },
  {
   "cell_type": "code",
   "execution_count": 66,
   "metadata": {},
   "outputs": [],
   "source": [
    "import glob\n",
    "\n",
    "def test_reviews(data_dir='../data/aclImdb', stop=250):\n",
    "    \n",
    "    results = []\n",
    "    ground = []\n",
    "    \n",
    "    # We make sure to test both positive and negative reviews    \n",
    "    for sentiment in ['pos', 'neg']:\n",
    "        \n",
    "        path = os.path.join(data_dir, 'test', sentiment, '*.txt')\n",
    "        files = glob.glob(path)\n",
    "        \n",
    "        files_read = 0\n",
    "        \n",
    "        print('Starting ', sentiment, ' files')\n",
    "        \n",
    "        # Iterate through the files and send them to the predictor\n",
    "        for f in files:\n",
    "            with open(f) as review:\n",
    "                # First, we store the ground truth (was the review positive or negative)\n",
    "                if sentiment == 'pos':\n",
    "                    ground.append(1)\n",
    "                else:\n",
    "                    ground.append(0)\n",
    "                # Read in the review and convert to 'utf-8' for transmission via HTTP\n",
    "                review_input = review.read().encode('utf-8')\n",
    "                # Send the review to the predictor and store the results\n",
    "                results.append(float(predictor.predict(review_input)))\n",
    "                \n",
    "            # Sending reviews to our endpoint one at a time takes a while so we\n",
    "            # only send a small number of reviews\n",
    "            files_read += 1\n",
    "            if files_read == stop:\n",
    "                break\n",
    "            \n",
    "    return ground, results"
   ]
  },
  {
   "cell_type": "code",
   "execution_count": 67,
   "metadata": {},
   "outputs": [
    {
     "name": "stdout",
     "output_type": "stream",
     "text": [
      "Starting  pos  files\n",
      "Starting  neg  files\n"
     ]
    }
   ],
   "source": [
    "ground, results = test_reviews()"
   ]
  },
  {
   "cell_type": "code",
   "execution_count": 68,
   "metadata": {},
   "outputs": [
    {
     "data": {
      "text/plain": [
       "0.856"
      ]
     },
     "execution_count": 68,
     "metadata": {},
     "output_type": "execute_result"
    }
   ],
   "source": [
    "from sklearn.metrics import accuracy_score\n",
    "accuracy_score(ground, results)"
   ]
  },
  {
   "cell_type": "markdown",
   "metadata": {},
   "source": [
    "As an additional test, we can try sending the `test_review` that we looked at earlier."
   ]
  },
  {
   "cell_type": "code",
   "execution_count": 69,
   "metadata": {},
   "outputs": [
    {
     "data": {
      "text/plain": [
       "b'1.0'"
      ]
     },
     "execution_count": 69,
     "metadata": {},
     "output_type": "execute_result"
    }
   ],
   "source": [
    "predictor.predict(test_review)"
   ]
  },
  {
   "cell_type": "markdown",
   "metadata": {},
   "source": [
    "Now that we know our endpoint is working as expected, we can set up the web page that will interact with it. If you don't have time to finish the project now, make sure to skip down to the end of this notebook and shut down your endpoint. You can deploy it again when you come back."
   ]
  },
  {
   "cell_type": "markdown",
   "metadata": {},
   "source": [
    "## Step 7 (again): Use the model for the web app\n",
    "\n",
    "> **TODO:** This entire section and the next contain tasks for you to complete, mostly using the AWS console.\n",
    "\n",
    "So far we have been accessing our model endpoint by constructing a predictor object which uses the endpoint and then just using the predictor object to perform inference. What if we wanted to create a web app which accessed our model? The way things are set up currently makes that not possible since in order to access a SageMaker endpoint the app would first have to authenticate with AWS using an IAM role which included access to SageMaker endpoints. However, there is an easier way! We just need to use some additional AWS services.\n",
    "\n",
    "<img src=\"Web App Diagram.svg\">\n",
    "\n",
    "The diagram above gives an overview of how the various services will work together. On the far right is the model which we trained above and which is deployed using SageMaker. On the far left is our web app that collects a user's movie review, sends it off and expects a positive or negative sentiment in return.\n",
    "\n",
    "In the middle is where some of the magic happens. We will construct a Lambda function, which you can think of as a straightforward Python function that can be executed whenever a specified event occurs. We will give this function permission to send and recieve data from a SageMaker endpoint.\n",
    "\n",
    "Lastly, the method we will use to execute the Lambda function is a new endpoint that we will create using API Gateway. This endpoint will be a url that listens for data to be sent to it. Once it gets some data it will pass that data on to the Lambda function and then return whatever the Lambda function returns. Essentially it will act as an interface that lets our web app communicate with the Lambda function.\n",
    "\n",
    "### Setting up a Lambda function\n",
    "\n",
    "The first thing we are going to do is set up a Lambda function. This Lambda function will be executed whenever our public API has data sent to it. When it is executed it will receive the data, perform any sort of processing that is required, send the data (the review) to the SageMaker endpoint we've created and then return the result.\n",
    "\n",
    "#### Part A: Create an IAM Role for the Lambda function\n",
    "\n",
    "Since we want the Lambda function to call a SageMaker endpoint, we need to make sure that it has permission to do so. To do this, we will construct a role that we can later give the Lambda function.\n",
    "\n",
    "Using the AWS Console, navigate to the **IAM** page and click on **Roles**. Then, click on **Create role**. Make sure that the **AWS service** is the type of trusted entity selected and choose **Lambda** as the service that will use this role, then click **Next: Permissions**.\n",
    "\n",
    "In the search box type `sagemaker` and select the check box next to the **AmazonSageMakerFullAccess** policy. Then, click on **Next: Review**.\n",
    "\n",
    "Lastly, give this role a name. Make sure you use a name that you will remember later on, for example `LambdaSageMakerRole`. Then, click on **Create role**.\n",
    "\n",
    "#### Part B: Create a Lambda function\n",
    "\n",
    "Now it is time to actually create the Lambda function.\n",
    "\n",
    "Using the AWS Console, navigate to the AWS Lambda page and click on **Create a function**. When you get to the next page, make sure that **Author from scratch** is selected. Now, name your Lambda function, using a name that you will remember later on, for example `sentiment_analysis_func`. Make sure that the **Python 3.6** runtime is selected and then choose the role that you created in the previous part. Then, click on **Create Function**.\n",
    "\n",
    "On the next page you will see some information about the Lambda function you've just created. If you scroll down you should see an editor in which you can write the code that will be executed when your Lambda function is triggered. In our example, we will use the code below. \n",
    "\n",
    "```python\n",
    "# We need to use the low-level library to interact with SageMaker since the SageMaker API\n",
    "# is not available natively through Lambda.\n",
    "import boto3\n",
    "\n",
    "def lambda_handler(event, context):\n",
    "\n",
    "    # The SageMaker runtime is what allows us to invoke the endpoint that we've created.\n",
    "    runtime = boto3.Session().client('sagemaker-runtime')\n",
    "\n",
    "    # Now we use the SageMaker runtime to invoke our endpoint, sending the review we were given\n",
    "    response = runtime.invoke_endpoint(EndpointName = '**ENDPOINT NAME HERE**',    # The name of the endpoint we created\n",
    "                                       ContentType = 'text/plain',                 # The data format that is expected\n",
    "                                       Body = event['body'])                       # The actual review\n",
    "\n",
    "    # The response is an HTTP response whose body contains the result of our inference\n",
    "    result = response['Body'].read().decode('utf-8')\n",
    "\n",
    "    return {\n",
    "        'statusCode' : 200,\n",
    "        'headers' : { 'Content-Type' : 'text/plain', 'Access-Control-Allow-Origin' : '*' },\n",
    "        'body' : result\n",
    "    }\n",
    "```\n",
    "\n",
    "Once you have copy and pasted the code above into the Lambda code editor, replace the `**ENDPOINT NAME HERE**` portion with the name of the endpoint that we deployed earlier. You can determine the name of the endpoint using the code cell below."
   ]
  },
  {
   "cell_type": "code",
   "execution_count": 70,
   "metadata": {},
   "outputs": [
    {
     "data": {
      "text/plain": [
       "'sagemaker-pytorch-2021-04-03-00-04-36-408'"
      ]
     },
     "execution_count": 70,
     "metadata": {},
     "output_type": "execute_result"
    }
   ],
   "source": [
    "predictor.endpoint"
   ]
  },
  {
   "cell_type": "markdown",
   "metadata": {},
   "source": [
    "Once you have added the endpoint name to the Lambda function, click on **Save**. Your Lambda function is now up and running. Next we need to create a way for our web app to execute the Lambda function.\n",
    "\n",
    "### Setting up API Gateway\n",
    "\n",
    "Now that our Lambda function is set up, it is time to create a new API using API Gateway that will trigger the Lambda function we have just created.\n",
    "\n",
    "Using AWS Console, navigate to **Amazon API Gateway** and then click on **Get started**.\n",
    "\n",
    "On the next page, make sure that **New API** is selected and give the new api a name, for example, `sentiment_analysis_api`. Then, click on **Create API**.\n",
    "\n",
    "Now we have created an API, however it doesn't currently do anything. What we want it to do is to trigger the Lambda function that we created earlier.\n",
    "\n",
    "Select the **Actions** dropdown menu and click **Create Method**. A new blank method will be created, select its dropdown menu and select **POST**, then click on the check mark beside it.\n",
    "\n",
    "For the integration point, make sure that **Lambda Function** is selected and click on the **Use Lambda Proxy integration**. This option makes sure that the data that is sent to the API is then sent directly to the Lambda function with no processing. It also means that the return value must be a proper response object as it will also not be processed by API Gateway.\n",
    "\n",
    "Type the name of the Lambda function you created earlier into the **Lambda Function** text entry box and then click on **Save**. Click on **OK** in the pop-up box that then appears, giving permission to API Gateway to invoke the Lambda function you created.\n",
    "\n",
    "The last step in creating the API Gateway is to select the **Actions** dropdown and click on **Deploy API**. You will need to create a new Deployment stage and name it anything you like, for example `prod`.\n",
    "\n",
    "You have now successfully set up a public API to access your SageMaker model. Make sure to copy or write down the URL provided to invoke your newly created public API as this will be needed in the next step. This URL can be found at the top of the page, highlighted in blue next to the text **Invoke URL**."
   ]
  },
  {
   "cell_type": "markdown",
   "metadata": {},
   "source": [
    "## Step 4: Deploying our web app\n",
    "\n",
    "Now that we have a publicly available API, we can start using it in a web app. For our purposes, we have provided a simple static html file which can make use of the public api you created earlier.\n",
    "\n",
    "In the `website` folder there should be a file called `index.html`. Download the file to your computer and open that file up in a text editor of your choice. There should be a line which contains **\\*\\*REPLACE WITH PUBLIC API URL\\*\\***. Replace this string with the url that you wrote down in the last step and then save the file.\n",
    "\n",
    "Now, if you open `index.html` on your local computer, your browser will behave as a local web server and you can use the provided site to interact with your SageMaker model.\n",
    "\n",
    "If you'd like to go further, you can host this html file anywhere you'd like, for example using github or hosting a static site on Amazon's S3. Once you have done this you can share the link with anyone you'd like and have them play with it too!\n",
    "\n",
    "> **Important Note** In order for the web app to communicate with the SageMaker endpoint, the endpoint has to actually be deployed and running. This means that you are paying for it. Make sure that the endpoint is running when you want to use the web app but that you shut it down when you don't need it, otherwise you will end up with a surprisingly large AWS bill.\n",
    "\n",
    "**TODO:** Make sure that you include the edited `index.html` file in your project submission."
   ]
  },
  {
   "cell_type": "markdown",
   "metadata": {},
   "source": [
    "Now that your web app is working, trying playing around with it and see how well it works.\n",
    "\n",
    "**Question**: Give an example of a review that you entered into your web app. What was the predicted sentiment of your example review?"
   ]
  },
  {
   "cell_type": "markdown",
   "metadata": {},
   "source": [
    "**Answer:**"
   ]
  },
  {
   "cell_type": "markdown",
   "metadata": {},
   "source": [
    "### Delete the endpoint\n",
    "\n",
    "Remember to always shut down your endpoint if you are no longer using it. You are charged for the length of time that the endpoint is running so if you forget and leave it on you could end up with an unexpectedly large bill."
   ]
  },
  {
   "cell_type": "code",
   "execution_count": 71,
   "metadata": {},
   "outputs": [],
   "source": [
    "predictor.delete_endpoint()"
   ]
  },
  {
   "cell_type": "code",
   "execution_count": null,
   "metadata": {},
   "outputs": [],
   "source": []
  }
 ],
 "metadata": {
  "kernelspec": {
   "display_name": "conda_pytorch_p36",
   "language": "python",
   "name": "conda_pytorch_p36"
  },
  "language_info": {
   "codemirror_mode": {
    "name": "ipython",
    "version": 3
   },
   "file_extension": ".py",
   "mimetype": "text/x-python",
   "name": "python",
   "nbconvert_exporter": "python",
   "pygments_lexer": "ipython3",
   "version": "3.6.13"
  }
 },
 "nbformat": 4,
 "nbformat_minor": 2
}
